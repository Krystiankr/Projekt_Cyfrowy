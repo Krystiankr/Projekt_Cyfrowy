{
 "cells": [
  {
   "cell_type": "code",
   "execution_count": 435,
   "outputs": [],
   "source": [
    "import pandas as pd\n",
    "from Reprezentacja_sumacyjna import CreateTable"
   ],
   "metadata": {
    "collapsed": false,
    "pycharm": {
     "name": "#%%\n"
    }
   }
  },
  {
   "cell_type": "code",
   "execution_count": 436,
   "outputs": [],
   "source": [
    "from typing import List, Tuple"
   ],
   "metadata": {
    "collapsed": false,
    "pycharm": {
     "name": "#%%\n"
    }
   }
  },
  {
   "cell_type": "code",
   "execution_count": 437,
   "outputs": [
    {
     "name": "stdout",
     "output_type": "stream",
     "text": [
      "0, 2, 3, 5, 6, 7, 8, 9, 10, 11, 12, 13, 14, 15 \n"
     ]
    }
   ],
   "source": [
    "df = CreateTable(\"0, 2, 3, 5, 6, 7, 8, 9, 10, 11, 12, 13, 14, 15\")\n",
    "df1 = df.get_df()\n",
    "df_grupowane2 = pd.DataFrame()\n",
    "df_grupowane2[[\"Obiekt grupowany\", \"Elemtny(łączone)\", \"Element\"]] = df1[['Liczba jedynek', 'Liczba Dziesiętna', 'Liczba Binarna']]\n",
    "df_grupowane2.info()"
   ],
   "metadata": {
    "collapsed": false,
    "pycharm": {
     "name": "#%%\n"
    }
   }
  },
  {
   "cell_type": "code",
   "execution_count": 413,
   "outputs": [
    {
     "data": {
      "text/plain": "    Obiekt grupowany  Elemtny(łączone) Element\n0                  0                 0    0000\n1                  1                 2    0010\n2                  1                 8    1000\n3                  2                 3    0011\n4                  2                 5    0101\n5                  2                 6    0110\n6                  2                 9    1001\n7                  2                10    1010\n8                  2                12    1100\n9                  3                 7    0111\n10                 3                11    1011\n11                 3                13    1101\n12                 3                14    1110\n13                 4                15    1111",
      "text/html": "<div>\n<style scoped>\n    .dataframe tbody tr th:only-of-type {\n        vertical-align: middle;\n    }\n\n    .dataframe tbody tr th {\n        vertical-align: top;\n    }\n\n    .dataframe thead th {\n        text-align: right;\n    }\n</style>\n<table border=\"1\" class=\"dataframe\">\n  <thead>\n    <tr style=\"text-align: right;\">\n      <th></th>\n      <th>Obiekt grupowany</th>\n      <th>Elemtny(łączone)</th>\n      <th>Element</th>\n    </tr>\n  </thead>\n  <tbody>\n    <tr>\n      <th>0</th>\n      <td>0</td>\n      <td>0</td>\n      <td>0000</td>\n    </tr>\n    <tr>\n      <th>1</th>\n      <td>1</td>\n      <td>2</td>\n      <td>0010</td>\n    </tr>\n    <tr>\n      <th>2</th>\n      <td>1</td>\n      <td>8</td>\n      <td>1000</td>\n    </tr>\n    <tr>\n      <th>3</th>\n      <td>2</td>\n      <td>3</td>\n      <td>0011</td>\n    </tr>\n    <tr>\n      <th>4</th>\n      <td>2</td>\n      <td>5</td>\n      <td>0101</td>\n    </tr>\n    <tr>\n      <th>5</th>\n      <td>2</td>\n      <td>6</td>\n      <td>0110</td>\n    </tr>\n    <tr>\n      <th>6</th>\n      <td>2</td>\n      <td>9</td>\n      <td>1001</td>\n    </tr>\n    <tr>\n      <th>7</th>\n      <td>2</td>\n      <td>10</td>\n      <td>1010</td>\n    </tr>\n    <tr>\n      <th>8</th>\n      <td>2</td>\n      <td>12</td>\n      <td>1100</td>\n    </tr>\n    <tr>\n      <th>9</th>\n      <td>3</td>\n      <td>7</td>\n      <td>0111</td>\n    </tr>\n    <tr>\n      <th>10</th>\n      <td>3</td>\n      <td>11</td>\n      <td>1011</td>\n    </tr>\n    <tr>\n      <th>11</th>\n      <td>3</td>\n      <td>13</td>\n      <td>1101</td>\n    </tr>\n    <tr>\n      <th>12</th>\n      <td>3</td>\n      <td>14</td>\n      <td>1110</td>\n    </tr>\n    <tr>\n      <th>13</th>\n      <td>4</td>\n      <td>15</td>\n      <td>1111</td>\n    </tr>\n  </tbody>\n</table>\n</div>"
     },
     "execution_count": 413,
     "metadata": {},
     "output_type": "execute_result"
    }
   ],
   "source": [
    "df_groupwane = pd.DataFrame(\n",
    "    columns=[\"Obiekt grupowany\", \"Elemtny(łączone)\", \"Element\"],\n",
    "    data=[[0, 0, '0000'],\n",
    "            [1, 2, '0010'],\n",
    "            [1, 8, '1000'],\n",
    "            [2, 3, '0011'],\n",
    "            [2, 5, '0101'],\n",
    "            [2, 6, '0110'],\n",
    "            [2, 9, '1001'],\n",
    "            [2, 10, '1010'],\n",
    "            [2, 12, '1100'],\n",
    "            [3, 7, '0111'],\n",
    "            [3, 11, '1011'],\n",
    "            [3, 13, '1101'],\n",
    "            [3, 14, '1110'],\n",
    "            [4, 15, '1111']])\n",
    "df_groupwane"
   ],
   "metadata": {
    "collapsed": false,
    "pycharm": {
     "name": "#%%\n"
    }
   }
  },
  {
   "cell_type": "code",
   "execution_count": 414,
   "outputs": [],
   "source": [
    "def matched(num1: str, num2: str) -> bool:\n",
    "    return sum(n1 != n2 for n1, n2 in zip(num1, num2)) == 1"
   ],
   "metadata": {
    "collapsed": false,
    "pycharm": {
     "name": "#%%\n"
    }
   }
  },
  {
   "cell_type": "code",
   "execution_count": 415,
   "outputs": [],
   "source": [
    "assert matched('0000', '000x') == True"
   ],
   "metadata": {
    "collapsed": false,
    "pycharm": {
     "name": "#%%\n"
    }
   }
  },
  {
   "cell_type": "code",
   "execution_count": 416,
   "outputs": [],
   "source": [
    "def correct_pair(num1: str, num2: str) -> str:\n",
    "    return ''.join(n1 if n1 == n2 else '-' for n1, n2 in zip(num1, num2))"
   ],
   "metadata": {
    "collapsed": false,
    "pycharm": {
     "name": "#%%\n"
    }
   }
  },
  {
   "cell_type": "code",
   "execution_count": 417,
   "outputs": [],
   "source": [
    "assert correct_pair('0010', '0000') == '00-0'"
   ],
   "metadata": {
    "collapsed": false,
    "pycharm": {
     "name": "#%%\n"
    }
   }
  },
  {
   "cell_type": "code",
   "execution_count": 418,
   "outputs": [],
   "source": [
    "def correct_tuple(tuple_elements: Tuple) -> Tuple:\n",
    "    tup_element = tuple_elements\n",
    "    # print(f\"tupl_elem, {tup_element}\")\n",
    "    while any(isinstance(el, tuple) for el in tup_element):\n",
    "        tup_element = sum(tup_element, ())\n",
    "    tup_element = tuple(set(tup_element))\n",
    "    return tup_element"
   ],
   "metadata": {
    "collapsed": false,
    "pycharm": {
     "name": "#%%\n"
    }
   }
  },
  {
   "cell_type": "code",
   "execution_count": 419,
   "outputs": [],
   "source": [
    "assert correct_tuple(((1, 2), (3, 4))) == (1, 2, 3, 4)"
   ],
   "metadata": {
    "collapsed": false,
    "pycharm": {
     "name": "#%%\n"
    }
   }
  },
  {
   "cell_type": "code",
   "execution_count": 420,
   "outputs": [],
   "source": [
    "assert correct_tuple((1, 2, 3, 4)) == (1, 2, 3, 4)"
   ],
   "metadata": {
    "collapsed": false,
    "pycharm": {
     "name": "#%%\n"
    }
   }
  },
  {
   "cell_type": "code",
   "execution_count": 421,
   "outputs": [],
   "source": [
    "def elementy_laczone(df_input: pd.DataFrame) -> list:\n",
    "    return pd.Series(df_input[\"Elemtny(łączone)\"].values, index=df_input['Element']).to_dict()"
   ],
   "metadata": {
    "collapsed": false,
    "pycharm": {
     "name": "#%%\n"
    }
   }
  },
  {
   "cell_type": "code",
   "execution_count": 426,
   "outputs": [],
   "source": [
    "def remove_element(dict_: dict, element):\n",
    "    if element in dict_.keys():\n",
    "        dict_.pop(element)"
   ],
   "metadata": {
    "collapsed": false,
    "pycharm": {
     "name": "#%%\n"
    }
   }
  },
  {
   "cell_type": "code",
   "execution_count": 427,
   "outputs": [],
   "source": [
    "from typing import Dict"
   ],
   "metadata": {
    "collapsed": false,
    "pycharm": {
     "name": "#%%\n"
    }
   }
  },
  {
   "cell_type": "code",
   "execution_count": 428,
   "outputs": [],
   "source": [
    "def compare_neighbours(df_input: pd.DataFrame, main: int, next_: int, dict_lacz: Dict[str, 'int']={})\\\n",
    "        -> Tuple[pd.DataFrame, list]:\n",
    "    # print(f\"El_laczone = {el_lacz}\")\n",
    "    df_new = pd.DataFrame(columns=[\"Obiekt grupowany\", \"Elemtny(łączone)\", \"Element\", \"Użyty\"])\n",
    "    df_main = df_input.copy()\n",
    "    # print each comparsion\n",
    "    main_rows = df_main[df_main[\"Obiekt grupowany\"] == main]\n",
    "    next_rows = df_main[df_main[\"Obiekt grupowany\"] == next_]\n",
    "    # print(f\"next->{next_rows}\")\n",
    "\n",
    "    for idx_main, row_main in main_rows.iterrows():\n",
    "        for idx_, row_ in next_rows.iterrows():\n",
    "            check1 = row_main['Element']\n",
    "            check2 = row_['Element']\n",
    "            if matched(check1, check2):\n",
    "                # print(f\"Matched! -{check1}- with {check2}\")\n",
    "                # print(f\"nr -{row_main['Elemtny(łączone)']}- with {row_['Elemtny(łączone)']}\")\n",
    "                remove_element(dict_lacz, row_main[\"Element\"])\n",
    "                remove_element(dict_lacz, row_[\"Element\"])\n",
    "                if df_new.empty:\n",
    "                    x = 0\n",
    "                else:\n",
    "                    x = df_new.index.max() + 1\n",
    "                grupowy_tuple = correct_tuple(tuple([main]) + tuple([next_]))\n",
    "                laczony_tuple = correct_tuple(tuple([row_main[\"Elemtny(łączone)\"]]) + tuple([row_[\"Elemtny(łączone)\"]]))\n",
    "                df_new.loc[x] = [grupowy_tuple,\n",
    "                                 laczony_tuple,\n",
    "                                 correct_pair(check1, check2),\n",
    "                                 False]\n",
    "    return df_new, dict_lacz"
   ],
   "metadata": {
    "collapsed": false,
    "pycharm": {
     "name": "#%%\n"
    }
   }
  },
  {
   "cell_type": "code",
   "execution_count": 429,
   "outputs": [],
   "source": [
    "def create_group(df_input: pd.DataFrame, dict_lacz: dict={}) -> pd.DataFrame:\n",
    "    df_main = df_input.copy()\n",
    "    df_out = pd.DataFrame()\n",
    "    dict_lacz.update(elementy_laczone(df_input))\n",
    "    unique_values = list(df_input['Obiekt grupowany'].unique())\n",
    "    # print(f\"Unique elements len = {len(unique_values)}\")\n",
    "    # print(f\"Unique elements = {unique_values}\")\n",
    "    # print(f\"Uprise group len = ->{len(unique_values) - 1}<-\")\n",
    "    for idx, el in enumerate(unique_values):\n",
    "        if el == unique_values[-1]: continue\n",
    "        df_tmp, dict_lacz = compare_neighbours(df_main, unique_values[idx], unique_values[idx+1], dict_lacz)\n",
    "        df_out = pd.concat([df_out, df_tmp])\n",
    "    df_out = df_out.drop_duplicates(subset='Element')\n",
    "    return df_out.reset_index(drop=True), dict_lacz"
   ],
   "metadata": {
    "collapsed": false,
    "pycharm": {
     "name": "#%%\n"
    }
   }
  },
  {
   "cell_type": "code",
   "execution_count": 466,
   "outputs": [],
   "source": [
    "def all_groups(df_input: pd.DataFrame):\n",
    "    df_all: List[pd.DataFrame] = []\n",
    "    df_out, dict_out = create_group(df_input, {})\n",
    "    while not df_out.empty:\n",
    "        df_out, dict_out = create_group(df_out, dict_out)\n",
    "    print(f\"List out: {dict_out}\")\n",
    "    return dict_out"
   ],
   "metadata": {
    "collapsed": false,
    "pycharm": {
     "name": "#%%\n"
    }
   }
  },
  {
   "cell_type": "code",
   "source": [
    "def przygotuj_tab_pokryc(postac_sumacyjna: List[int], implikanty_proste: dict):\n",
    "    print(f\"Postac sumacyjna: {postac_sumacyjna}\")\n",
    "    print(\"Słownik\")\n",
    "    for key, item in implikanty_proste.items():\n",
    "        print(f\"key[{key}] = {item}\")\n",
    "    df_tab_pokryc = pd.DataFrame(\n",
    "        columns=list(implikanty_proste.keys()),\n",
    "        index=postac_sumacyjna,\n",
    "        data=[['-'] * len(list(implikanty_proste.keys()))]\n",
    "    )\n",
    "    return df_tab_pokryc"
   ],
   "metadata": {
    "collapsed": false,
    "pycharm": {
     "name": "#%%\n"
    }
   },
   "execution_count": 467,
   "outputs": []
  },
  {
   "cell_type": "code",
   "execution_count": 468,
   "outputs": [],
   "source": [
    "def wypelnij_tab_pokryc(df_wstepna: pd.DataFrame, implikanty_proste: dict):\n",
    "    for column, elements in implikanty_proste.items():\n",
    "        # print(f\"column = {column}\")\n",
    "        for element in elements:\n",
    "            # print(f\"element = {element}\")\n",
    "            df_wstepna.at[element, column] = '+'  # index, col\n",
    "    return df_wstepna"
   ],
   "metadata": {
    "collapsed": false,
    "pycharm": {
     "name": "#%%\n"
    }
   }
  },
  {
   "cell_type": "code",
   "execution_count": 486,
   "outputs": [
    {
     "name": "stdout",
     "output_type": "stream",
     "text": [
      "0 2 3 5 6 7 8 9 10 11 12 13 14 15 \n"
     ]
    },
    {
     "data": {
      "text/plain": "   Obiekt grupowany  Elemtny(łączone) Element\n0                 0                 0    0000\n1                 1                 2    0010\n2                 1                 8    1000\n3                 2                 3    0011\n4                 2                 5    0101\n5                 2                 6    0110\n6                 2                 9    1001\n7                 2                10    1010\n8                 2                12    1100\n9                 3                 7    0111\n10                3                11    1011\n11                3                13    1101\n12                3                14    1110\n13                4                15    1111",
      "text/html": "<div>\n<style scoped>\n    .dataframe tbody tr th:only-of-type {\n        vertical-align: middle;\n    }\n\n    .dataframe tbody tr th {\n        vertical-align: top;\n    }\n\n    .dataframe thead th {\n        text-align: right;\n    }\n</style>\n<table border=\"1\" class=\"dataframe\">\n  <thead>\n    <tr style=\"text-align: right;\">\n      <th></th>\n      <th>Obiekt grupowany</th>\n      <th>Elemtny(łączone)</th>\n      <th>Element</th>\n    </tr>\n  </thead>\n  <tbody>\n    <tr>\n      <th>0</th>\n      <td>0</td>\n      <td>0</td>\n      <td>0000</td>\n    </tr>\n    <tr>\n      <th>1</th>\n      <td>1</td>\n      <td>2</td>\n      <td>0010</td>\n    </tr>\n    <tr>\n      <th>2</th>\n      <td>1</td>\n      <td>8</td>\n      <td>1000</td>\n    </tr>\n    <tr>\n      <th>3</th>\n      <td>2</td>\n      <td>3</td>\n      <td>0011</td>\n    </tr>\n    <tr>\n      <th>4</th>\n      <td>2</td>\n      <td>5</td>\n      <td>0101</td>\n    </tr>\n    <tr>\n      <th>5</th>\n      <td>2</td>\n      <td>6</td>\n      <td>0110</td>\n    </tr>\n    <tr>\n      <th>6</th>\n      <td>2</td>\n      <td>9</td>\n      <td>1001</td>\n    </tr>\n    <tr>\n      <th>7</th>\n      <td>2</td>\n      <td>10</td>\n      <td>1010</td>\n    </tr>\n    <tr>\n      <th>8</th>\n      <td>2</td>\n      <td>12</td>\n      <td>1100</td>\n    </tr>\n    <tr>\n      <th>9</th>\n      <td>3</td>\n      <td>7</td>\n      <td>0111</td>\n    </tr>\n    <tr>\n      <th>10</th>\n      <td>3</td>\n      <td>11</td>\n      <td>1011</td>\n    </tr>\n    <tr>\n      <th>11</th>\n      <td>3</td>\n      <td>13</td>\n      <td>1101</td>\n    </tr>\n    <tr>\n      <th>12</th>\n      <td>3</td>\n      <td>14</td>\n      <td>1110</td>\n    </tr>\n    <tr>\n      <th>13</th>\n      <td>4</td>\n      <td>15</td>\n      <td>1111</td>\n    </tr>\n  </tbody>\n</table>\n</div>"
     },
     "execution_count": 486,
     "metadata": {},
     "output_type": "execute_result"
    }
   ],
   "source": [
    "df = CreateTable(\"0 2 3 5 6 7 8 9 10 11 12 13 14 15\")\n",
    "df1 = df.get_df()\n",
    "df_grupowane2 = pd.DataFrame()\n",
    "df_grupowane2[[\"Obiekt grupowany\", \"Elemtny(łączone)\", \"Element\"]] = df1[['Liczba jedynek', 'Liczba Dziesiętna', 'Liczba Binarna']]\n",
    "df_grupowane2"
   ],
   "metadata": {
    "collapsed": false,
    "pycharm": {
     "name": "#%%\n"
    }
   }
  },
  {
   "cell_type": "code",
   "execution_count": 490,
   "outputs": [
    {
     "data": {
      "text/plain": "   Obiekt grupowany  Elemtny(łączone) Element\n0                 0                 0    0000\n1                 1                 2    0010\n2                 1                 8    1000\n3                 2                 3    0011\n4                 2                 5    0101\n5                 2                 6    0110\n6                 2                 9    1001\n7                 2                10    1010\n8                 2                12    1100\n9                 3                 7    0111\n10                3                11    1011\n11                3                13    1101\n12                3                14    1110\n13                4                15    1111",
      "text/html": "<div>\n<style scoped>\n    .dataframe tbody tr th:only-of-type {\n        vertical-align: middle;\n    }\n\n    .dataframe tbody tr th {\n        vertical-align: top;\n    }\n\n    .dataframe thead th {\n        text-align: right;\n    }\n</style>\n<table border=\"1\" class=\"dataframe\">\n  <thead>\n    <tr style=\"text-align: right;\">\n      <th></th>\n      <th>Obiekt grupowany</th>\n      <th>Elemtny(łączone)</th>\n      <th>Element</th>\n    </tr>\n  </thead>\n  <tbody>\n    <tr>\n      <th>0</th>\n      <td>0</td>\n      <td>0</td>\n      <td>0000</td>\n    </tr>\n    <tr>\n      <th>1</th>\n      <td>1</td>\n      <td>2</td>\n      <td>0010</td>\n    </tr>\n    <tr>\n      <th>2</th>\n      <td>1</td>\n      <td>8</td>\n      <td>1000</td>\n    </tr>\n    <tr>\n      <th>3</th>\n      <td>2</td>\n      <td>3</td>\n      <td>0011</td>\n    </tr>\n    <tr>\n      <th>4</th>\n      <td>2</td>\n      <td>5</td>\n      <td>0101</td>\n    </tr>\n    <tr>\n      <th>5</th>\n      <td>2</td>\n      <td>6</td>\n      <td>0110</td>\n    </tr>\n    <tr>\n      <th>6</th>\n      <td>2</td>\n      <td>9</td>\n      <td>1001</td>\n    </tr>\n    <tr>\n      <th>7</th>\n      <td>2</td>\n      <td>10</td>\n      <td>1010</td>\n    </tr>\n    <tr>\n      <th>8</th>\n      <td>2</td>\n      <td>12</td>\n      <td>1100</td>\n    </tr>\n    <tr>\n      <th>9</th>\n      <td>3</td>\n      <td>7</td>\n      <td>0111</td>\n    </tr>\n    <tr>\n      <th>10</th>\n      <td>3</td>\n      <td>11</td>\n      <td>1011</td>\n    </tr>\n    <tr>\n      <th>11</th>\n      <td>3</td>\n      <td>13</td>\n      <td>1101</td>\n    </tr>\n    <tr>\n      <th>12</th>\n      <td>3</td>\n      <td>14</td>\n      <td>1110</td>\n    </tr>\n    <tr>\n      <th>13</th>\n      <td>4</td>\n      <td>15</td>\n      <td>1111</td>\n    </tr>\n  </tbody>\n</table>\n</div>"
     },
     "execution_count": 490,
     "metadata": {},
     "output_type": "execute_result"
    }
   ],
   "source": [
    "df_grupowane2"
   ],
   "metadata": {
    "collapsed": false,
    "pycharm": {
     "name": "#%%\n"
    }
   }
  },
  {
   "cell_type": "code",
   "execution_count": 491,
   "outputs": [
    {
     "data": {
      "text/plain": "(  Obiekt grupowany Elemtny(łączone) Element  Użyty\n 0           (0, 1)           (0, 2)    00-0  False\n 1           (0, 1)           (0, 8)    -000  False,\n {})"
     },
     "execution_count": 491,
     "metadata": {},
     "output_type": "execute_result"
    }
   ],
   "source": [
    "compare_neighbours(df_grupowane2, 0, 1)"
   ],
   "metadata": {
    "collapsed": false,
    "pycharm": {
     "name": "#%%\n"
    }
   }
  },
  {
   "cell_type": "code",
   "execution_count": 487,
   "outputs": [
    {
     "name": "stdout",
     "output_type": "stream",
     "text": [
      "List out: {'-0-0': (0, 8, 2, 10), '-1-1': (13, 15, 5, 7), '--1-': (2, 3, 6, 7, 10, 11, 14, 15), '1---': (8, 9, 10, 11, 12, 13, 14, 15)}\n"
     ]
    },
    {
     "data": {
      "text/plain": "{'-0-0': (0, 8, 2, 10),\n '-1-1': (13, 15, 5, 7),\n '--1-': (2, 3, 6, 7, 10, 11, 14, 15),\n '1---': (8, 9, 10, 11, 12, 13, 14, 15)}"
     },
     "execution_count": 487,
     "metadata": {},
     "output_type": "execute_result"
    }
   ],
   "source": [
    "dict_out = all_groups(df_grupowane2)\n",
    "dict_out"
   ],
   "metadata": {
    "collapsed": false,
    "pycharm": {
     "name": "#%%\n"
    }
   }
  },
  {
   "cell_type": "code",
   "execution_count": 488,
   "outputs": [
    {
     "data": {
      "text/plain": "[0, 2, 3, 5, 6, 7, 8, 9, 10, 11, 12, 13, 14, 15]"
     },
     "execution_count": 488,
     "metadata": {},
     "output_type": "execute_result"
    }
   ],
   "source": [
    "sorted(df.get_df()['Liczba Dziesiętna'])"
   ],
   "metadata": {
    "collapsed": false,
    "pycharm": {
     "name": "#%%\n"
    }
   }
  },
  {
   "cell_type": "code",
   "execution_count": 489,
   "outputs": [
    {
     "name": "stdout",
     "output_type": "stream",
     "text": [
      "Postac sumacyjna: [0, 2, 3, 5, 6, 7, 8, 9, 10, 11, 12, 13, 14, 15]\n",
      "Słownik\n",
      "key[-0-0] = (0, 8, 2, 10)\n",
      "key[-1-1] = (13, 15, 5, 7)\n",
      "key[--1-] = (2, 3, 6, 7, 10, 11, 14, 15)\n",
      "key[1---] = (8, 9, 10, 11, 12, 13, 14, 15)\n"
     ]
    },
    {
     "data": {
      "text/plain": "   -0-0 -1-1 --1- 1---\n0     +    -    -    -\n2     +    -    +    -\n3     -    -    +    -\n5     -    +    -    -\n6     -    -    +    -\n7     -    +    +    -\n8     +    -    -    +\n9     -    -    -    +\n10    +    -    +    +\n11    -    -    +    +\n12    -    -    -    +\n13    -    +    -    +\n14    -    -    +    +\n15    -    +    +    +",
      "text/html": "<div>\n<style scoped>\n    .dataframe tbody tr th:only-of-type {\n        vertical-align: middle;\n    }\n\n    .dataframe tbody tr th {\n        vertical-align: top;\n    }\n\n    .dataframe thead th {\n        text-align: right;\n    }\n</style>\n<table border=\"1\" class=\"dataframe\">\n  <thead>\n    <tr style=\"text-align: right;\">\n      <th></th>\n      <th>-0-0</th>\n      <th>-1-1</th>\n      <th>--1-</th>\n      <th>1---</th>\n    </tr>\n  </thead>\n  <tbody>\n    <tr>\n      <th>0</th>\n      <td>+</td>\n      <td>-</td>\n      <td>-</td>\n      <td>-</td>\n    </tr>\n    <tr>\n      <th>2</th>\n      <td>+</td>\n      <td>-</td>\n      <td>+</td>\n      <td>-</td>\n    </tr>\n    <tr>\n      <th>3</th>\n      <td>-</td>\n      <td>-</td>\n      <td>+</td>\n      <td>-</td>\n    </tr>\n    <tr>\n      <th>5</th>\n      <td>-</td>\n      <td>+</td>\n      <td>-</td>\n      <td>-</td>\n    </tr>\n    <tr>\n      <th>6</th>\n      <td>-</td>\n      <td>-</td>\n      <td>+</td>\n      <td>-</td>\n    </tr>\n    <tr>\n      <th>7</th>\n      <td>-</td>\n      <td>+</td>\n      <td>+</td>\n      <td>-</td>\n    </tr>\n    <tr>\n      <th>8</th>\n      <td>+</td>\n      <td>-</td>\n      <td>-</td>\n      <td>+</td>\n    </tr>\n    <tr>\n      <th>9</th>\n      <td>-</td>\n      <td>-</td>\n      <td>-</td>\n      <td>+</td>\n    </tr>\n    <tr>\n      <th>10</th>\n      <td>+</td>\n      <td>-</td>\n      <td>+</td>\n      <td>+</td>\n    </tr>\n    <tr>\n      <th>11</th>\n      <td>-</td>\n      <td>-</td>\n      <td>+</td>\n      <td>+</td>\n    </tr>\n    <tr>\n      <th>12</th>\n      <td>-</td>\n      <td>-</td>\n      <td>-</td>\n      <td>+</td>\n    </tr>\n    <tr>\n      <th>13</th>\n      <td>-</td>\n      <td>+</td>\n      <td>-</td>\n      <td>+</td>\n    </tr>\n    <tr>\n      <th>14</th>\n      <td>-</td>\n      <td>-</td>\n      <td>+</td>\n      <td>+</td>\n    </tr>\n    <tr>\n      <th>15</th>\n      <td>-</td>\n      <td>+</td>\n      <td>+</td>\n      <td>+</td>\n    </tr>\n  </tbody>\n</table>\n</div>"
     },
     "execution_count": 489,
     "metadata": {},
     "output_type": "execute_result"
    }
   ],
   "source": [
    "postac_sumacyjna: List[int] = sorted(df.get_df()['Liczba Dziesiętna'])\n",
    "out_ = przygotuj_tab_pokryc(postac_sumacyjna, dict_out)\n",
    "wypelnij_tab_pokryc(out_, dict_out)"
   ],
   "metadata": {
    "collapsed": false,
    "pycharm": {
     "name": "#%%\n"
    }
   }
  },
  {
   "cell_type": "code",
   "execution_count": 489,
   "outputs": [],
   "source": [],
   "metadata": {
    "collapsed": false,
    "pycharm": {
     "name": "#%%\n"
    }
   }
  },
  {
   "cell_type": "code",
   "execution_count": null,
   "outputs": [],
   "source": [],
   "metadata": {
    "collapsed": false,
    "pycharm": {
     "name": "#%%\n"
    }
   }
  }
 ],
 "metadata": {
  "kernelspec": {
   "display_name": "Python 3",
   "language": "python",
   "name": "python3"
  },
  "language_info": {
   "codemirror_mode": {
    "name": "ipython",
    "version": 2
   },
   "file_extension": ".py",
   "mimetype": "text/x-python",
   "name": "python",
   "nbconvert_exporter": "python",
   "pygments_lexer": "ipython2",
   "version": "2.7.6"
  }
 },
 "nbformat": 4,
 "nbformat_minor": 0
}