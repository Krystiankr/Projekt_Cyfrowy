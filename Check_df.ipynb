{
 "cells": [
  {
   "cell_type": "code",
   "execution_count": 2,
   "outputs": [],
   "source": [
    "import pandas as pd\n",
    "\n",
    "from Reprezentacja_sumacyjna import CreateTable"
   ],
   "metadata": {
    "collapsed": false,
    "pycharm": {
     "name": "#%%\n"
    }
   }
  },
  {
   "cell_type": "code",
   "execution_count": 3,
   "outputs": [],
   "source": [
    "from typing import List, Tuple"
   ],
   "metadata": {
    "collapsed": false,
    "pycharm": {
     "name": "#%%\n"
    }
   }
  },
  {
   "cell_type": "code",
   "execution_count": 4,
   "outputs": [
    {
     "name": "stdout",
     "output_type": "stream",
     "text": [
      "0, 2, 3, 5, 6, 7, 8, 9, 10, 11, 12, 13, 14, 15 \n"
     ]
    }
   ],
   "source": [
    "df = CreateTable(\"0, 2, 3, 5, 6, 7, 8, 9, 10, 11, 12, 13, 14, 15\")"
   ],
   "metadata": {
    "collapsed": false,
    "pycharm": {
     "name": "#%%\n"
    }
   }
  },
  {
   "cell_type": "code",
   "execution_count": 5,
   "outputs": [
    {
     "data": {
      "text/plain": "   Liczba jedynek Liczba Binarna  Liczba Dziesiętna\n0               0           0000                  0\n1               1           0010                  2\n2               1           1000                  8\n3               2           0011                  3\n4               2           0101                  5\n5               2           0110                  6\n6               2           1001                  9\n7               2           1010                 10\n8               2           1100                 12\n9               3           0111                  7\n10              3           1011                 11\n11              3           1101                 13\n12              3           1110                 14\n13              4           1111                 15",
      "text/html": "<div>\n<style scoped>\n    .dataframe tbody tr th:only-of-type {\n        vertical-align: middle;\n    }\n\n    .dataframe tbody tr th {\n        vertical-align: top;\n    }\n\n    .dataframe thead th {\n        text-align: right;\n    }\n</style>\n<table border=\"1\" class=\"dataframe\">\n  <thead>\n    <tr style=\"text-align: right;\">\n      <th></th>\n      <th>Liczba jedynek</th>\n      <th>Liczba Binarna</th>\n      <th>Liczba Dziesiętna</th>\n    </tr>\n  </thead>\n  <tbody>\n    <tr>\n      <th>0</th>\n      <td>0</td>\n      <td>0000</td>\n      <td>0</td>\n    </tr>\n    <tr>\n      <th>1</th>\n      <td>1</td>\n      <td>0010</td>\n      <td>2</td>\n    </tr>\n    <tr>\n      <th>2</th>\n      <td>1</td>\n      <td>1000</td>\n      <td>8</td>\n    </tr>\n    <tr>\n      <th>3</th>\n      <td>2</td>\n      <td>0011</td>\n      <td>3</td>\n    </tr>\n    <tr>\n      <th>4</th>\n      <td>2</td>\n      <td>0101</td>\n      <td>5</td>\n    </tr>\n    <tr>\n      <th>5</th>\n      <td>2</td>\n      <td>0110</td>\n      <td>6</td>\n    </tr>\n    <tr>\n      <th>6</th>\n      <td>2</td>\n      <td>1001</td>\n      <td>9</td>\n    </tr>\n    <tr>\n      <th>7</th>\n      <td>2</td>\n      <td>1010</td>\n      <td>10</td>\n    </tr>\n    <tr>\n      <th>8</th>\n      <td>2</td>\n      <td>1100</td>\n      <td>12</td>\n    </tr>\n    <tr>\n      <th>9</th>\n      <td>3</td>\n      <td>0111</td>\n      <td>7</td>\n    </tr>\n    <tr>\n      <th>10</th>\n      <td>3</td>\n      <td>1011</td>\n      <td>11</td>\n    </tr>\n    <tr>\n      <th>11</th>\n      <td>3</td>\n      <td>1101</td>\n      <td>13</td>\n    </tr>\n    <tr>\n      <th>12</th>\n      <td>3</td>\n      <td>1110</td>\n      <td>14</td>\n    </tr>\n    <tr>\n      <th>13</th>\n      <td>4</td>\n      <td>1111</td>\n      <td>15</td>\n    </tr>\n  </tbody>\n</table>\n</div>"
     },
     "execution_count": 5,
     "metadata": {},
     "output_type": "execute_result"
    }
   ],
   "source": [
    "df.get_df()"
   ],
   "metadata": {
    "collapsed": false,
    "pycharm": {
     "name": "#%%\n"
    }
   }
  },
  {
   "cell_type": "code",
   "execution_count": 6,
   "outputs": [
    {
     "data": {
      "text/plain": "    Obiekt grupowany  Elemtny(łączone) Element  Użyty\n0                  0                 0    0000  False\n1                  1                 2    0010  False\n2                  1                 8    1000  False\n3                  2                 3    0011  False\n4                  2                 5    0101  False\n5                  2                 6    0110  False\n6                  2                 9    1001  False\n7                  2                10    1010  False\n8                  2                12    1100  False\n9                  3                 7    0111  False\n10                 3                11    1011  False\n11                 3                13    1101  False\n12                 3                14    1110  False\n13                 4                15    1111  False",
      "text/html": "<div>\n<style scoped>\n    .dataframe tbody tr th:only-of-type {\n        vertical-align: middle;\n    }\n\n    .dataframe tbody tr th {\n        vertical-align: top;\n    }\n\n    .dataframe thead th {\n        text-align: right;\n    }\n</style>\n<table border=\"1\" class=\"dataframe\">\n  <thead>\n    <tr style=\"text-align: right;\">\n      <th></th>\n      <th>Obiekt grupowany</th>\n      <th>Elemtny(łączone)</th>\n      <th>Element</th>\n      <th>Użyty</th>\n    </tr>\n  </thead>\n  <tbody>\n    <tr>\n      <th>0</th>\n      <td>0</td>\n      <td>0</td>\n      <td>0000</td>\n      <td>False</td>\n    </tr>\n    <tr>\n      <th>1</th>\n      <td>1</td>\n      <td>2</td>\n      <td>0010</td>\n      <td>False</td>\n    </tr>\n    <tr>\n      <th>2</th>\n      <td>1</td>\n      <td>8</td>\n      <td>1000</td>\n      <td>False</td>\n    </tr>\n    <tr>\n      <th>3</th>\n      <td>2</td>\n      <td>3</td>\n      <td>0011</td>\n      <td>False</td>\n    </tr>\n    <tr>\n      <th>4</th>\n      <td>2</td>\n      <td>5</td>\n      <td>0101</td>\n      <td>False</td>\n    </tr>\n    <tr>\n      <th>5</th>\n      <td>2</td>\n      <td>6</td>\n      <td>0110</td>\n      <td>False</td>\n    </tr>\n    <tr>\n      <th>6</th>\n      <td>2</td>\n      <td>9</td>\n      <td>1001</td>\n      <td>False</td>\n    </tr>\n    <tr>\n      <th>7</th>\n      <td>2</td>\n      <td>10</td>\n      <td>1010</td>\n      <td>False</td>\n    </tr>\n    <tr>\n      <th>8</th>\n      <td>2</td>\n      <td>12</td>\n      <td>1100</td>\n      <td>False</td>\n    </tr>\n    <tr>\n      <th>9</th>\n      <td>3</td>\n      <td>7</td>\n      <td>0111</td>\n      <td>False</td>\n    </tr>\n    <tr>\n      <th>10</th>\n      <td>3</td>\n      <td>11</td>\n      <td>1011</td>\n      <td>False</td>\n    </tr>\n    <tr>\n      <th>11</th>\n      <td>3</td>\n      <td>13</td>\n      <td>1101</td>\n      <td>False</td>\n    </tr>\n    <tr>\n      <th>12</th>\n      <td>3</td>\n      <td>14</td>\n      <td>1110</td>\n      <td>False</td>\n    </tr>\n    <tr>\n      <th>13</th>\n      <td>4</td>\n      <td>15</td>\n      <td>1111</td>\n      <td>False</td>\n    </tr>\n  </tbody>\n</table>\n</div>"
     },
     "execution_count": 6,
     "metadata": {},
     "output_type": "execute_result"
    }
   ],
   "source": [
    "df_groupwane = pd.DataFrame(\n",
    "    columns=[\"Obiekt grupowany\", \"Elemtny(łączone)\", \"Element\", \"Użyty\"],\n",
    "    data=[[0, 0, '0000', False],\n",
    "            [1, 2, '0010', False],\n",
    "            [1, 8, '1000', False],\n",
    "            [2, 3, '0011', False],\n",
    "            [2, 5, '0101', False],\n",
    "            [2, 6, '0110', False],\n",
    "            [2, 9, '1001', False],\n",
    "            [2, 10, '1010', False],\n",
    "            [2, 12, '1100', False],\n",
    "            [3, 7, '0111', False],\n",
    "            [3, 11, '1011', False],\n",
    "            [3, 13, '1101', False],\n",
    "            [3, 14, '1110', False],\n",
    "            [4, 15, '1111', False]])\n",
    "df_groupwane"
   ],
   "metadata": {
    "collapsed": false,
    "pycharm": {
     "name": "#%%\n"
    }
   }
  },
  {
   "cell_type": "code",
   "execution_count": 7,
   "outputs": [
    {
     "data": {
      "text/plain": "    Obiekt grupowany  Elemtny(łączone) Element  Użyty\n0                  0                 0    0000   True\n1                  1                 2    0010   True\n2                  1                 8    1000   True\n3                  2                 5    0101  False\n4                  2                 6    0110  False\n5                  2                 9    1001  False\n6                  2                10    1010  False\n7                  2                12    1100  False\n8                  3                 7    0111  False\n9                  3                11    1011  False\n10                 3                13    1101  False\n11                 3                14    1110  False\n12                 4                15    1111  False",
      "text/html": "<div>\n<style scoped>\n    .dataframe tbody tr th:only-of-type {\n        vertical-align: middle;\n    }\n\n    .dataframe tbody tr th {\n        vertical-align: top;\n    }\n\n    .dataframe thead th {\n        text-align: right;\n    }\n</style>\n<table border=\"1\" class=\"dataframe\">\n  <thead>\n    <tr style=\"text-align: right;\">\n      <th></th>\n      <th>Obiekt grupowany</th>\n      <th>Elemtny(łączone)</th>\n      <th>Element</th>\n      <th>Użyty</th>\n    </tr>\n  </thead>\n  <tbody>\n    <tr>\n      <th>0</th>\n      <td>0</td>\n      <td>0</td>\n      <td>0000</td>\n      <td>True</td>\n    </tr>\n    <tr>\n      <th>1</th>\n      <td>1</td>\n      <td>2</td>\n      <td>0010</td>\n      <td>True</td>\n    </tr>\n    <tr>\n      <th>2</th>\n      <td>1</td>\n      <td>8</td>\n      <td>1000</td>\n      <td>True</td>\n    </tr>\n    <tr>\n      <th>3</th>\n      <td>2</td>\n      <td>5</td>\n      <td>0101</td>\n      <td>False</td>\n    </tr>\n    <tr>\n      <th>4</th>\n      <td>2</td>\n      <td>6</td>\n      <td>0110</td>\n      <td>False</td>\n    </tr>\n    <tr>\n      <th>5</th>\n      <td>2</td>\n      <td>9</td>\n      <td>1001</td>\n      <td>False</td>\n    </tr>\n    <tr>\n      <th>6</th>\n      <td>2</td>\n      <td>10</td>\n      <td>1010</td>\n      <td>False</td>\n    </tr>\n    <tr>\n      <th>7</th>\n      <td>2</td>\n      <td>12</td>\n      <td>1100</td>\n      <td>False</td>\n    </tr>\n    <tr>\n      <th>8</th>\n      <td>3</td>\n      <td>7</td>\n      <td>0111</td>\n      <td>False</td>\n    </tr>\n    <tr>\n      <th>9</th>\n      <td>3</td>\n      <td>11</td>\n      <td>1011</td>\n      <td>False</td>\n    </tr>\n    <tr>\n      <th>10</th>\n      <td>3</td>\n      <td>13</td>\n      <td>1101</td>\n      <td>False</td>\n    </tr>\n    <tr>\n      <th>11</th>\n      <td>3</td>\n      <td>14</td>\n      <td>1110</td>\n      <td>False</td>\n    </tr>\n    <tr>\n      <th>12</th>\n      <td>4</td>\n      <td>15</td>\n      <td>1111</td>\n      <td>False</td>\n    </tr>\n  </tbody>\n</table>\n</div>"
     },
     "execution_count": 7,
     "metadata": {},
     "output_type": "execute_result"
    }
   ],
   "source": [
    "df_glowna_wynik = pd.DataFrame(\n",
    "    columns=[\"Obiekt grupowany\", \"Elemtny(łączone)\", \"Element\", \"Użyty\"],\n",
    "    data=[[0, 0, '0000', True],\n",
    "          [1, 2, '0010', True],\n",
    "          [1, 8, '1000', True],\n",
    "          [2, 5, '0101', False],\n",
    "          [2, 6, '0110', False],\n",
    "          [2, 9, '1001', False],\n",
    "          [2, 10, '1010', False],\n",
    "          [2, 12, '1100', False],\n",
    "          [3, 7, '0111', False],\n",
    "          [3, 11, '1011', False],\n",
    "          [3, 13, '1101', False],\n",
    "          [3, 14, '1110', False],\n",
    "          [4, 15, '1111', False],\n",
    "          ]\n",
    ")\n",
    "df_glowna_wynik"
   ],
   "metadata": {
    "collapsed": false,
    "pycharm": {
     "name": "#%%\n"
    }
   }
  },
  {
   "cell_type": "code",
   "execution_count": 8,
   "outputs": [
    {
     "data": {
      "text/plain": "  Obiekt grupowany Elemtny(łączone) Element  Użyty\n0           (0, 1)           (0, 2)    00-0  False\n1           (0, 1)           (0, 8)    -000  False",
      "text/html": "<div>\n<style scoped>\n    .dataframe tbody tr th:only-of-type {\n        vertical-align: middle;\n    }\n\n    .dataframe tbody tr th {\n        vertical-align: top;\n    }\n\n    .dataframe thead th {\n        text-align: right;\n    }\n</style>\n<table border=\"1\" class=\"dataframe\">\n  <thead>\n    <tr style=\"text-align: right;\">\n      <th></th>\n      <th>Obiekt grupowany</th>\n      <th>Elemtny(łączone)</th>\n      <th>Element</th>\n      <th>Użyty</th>\n    </tr>\n  </thead>\n  <tbody>\n    <tr>\n      <th>0</th>\n      <td>(0, 1)</td>\n      <td>(0, 2)</td>\n      <td>00-0</td>\n      <td>False</td>\n    </tr>\n    <tr>\n      <th>1</th>\n      <td>(0, 1)</td>\n      <td>(0, 8)</td>\n      <td>-000</td>\n      <td>False</td>\n    </tr>\n  </tbody>\n</table>\n</div>"
     },
     "execution_count": 8,
     "metadata": {},
     "output_type": "execute_result"
    }
   ],
   "source": [
    "df_wynikowa1 = pd.DataFrame(\n",
    "    columns=[\"Obiekt grupowany\", \"Elemtny(łączone)\", \"Element\", \"Użyty\"],\n",
    "    data=[[(0, 1), (0, 2), '00-0', False],\n",
    "          [(0, 1), (0, 8), '-000', False]]\n",
    ")\n",
    "df_wynikowa1"
   ],
   "metadata": {
    "collapsed": false,
    "pycharm": {
     "name": "#%%\n"
    }
   }
  },
  {
   "cell_type": "code",
   "execution_count": 9,
   "outputs": [],
   "source": [
    "def matched(num1: str, num2: str) -> bool:\n",
    "    return sum(n1 != n2 for n1, n2 in zip(num1, num2)) == 1"
   ],
   "metadata": {
    "collapsed": false,
    "pycharm": {
     "name": "#%%\n"
    }
   }
  },
  {
   "cell_type": "code",
   "execution_count": 10,
   "outputs": [],
   "source": [
    "assert matched('0000', '000x') == True"
   ],
   "metadata": {
    "collapsed": false,
    "pycharm": {
     "name": "#%%\n"
    }
   }
  },
  {
   "cell_type": "code",
   "execution_count": 11,
   "outputs": [],
   "source": [
    "def correct_pair(num1: str, num2: str) -> str:\n",
    "    return ''.join(n1 if n1 == n2 else '-' for n1, n2 in zip(num1, num2))"
   ],
   "metadata": {
    "collapsed": false,
    "pycharm": {
     "name": "#%%\n"
    }
   }
  },
  {
   "cell_type": "code",
   "execution_count": 31,
   "outputs": [],
   "source": [
    "def correct_tuple(tuple_elements: Tuple) -> Tuple:\n",
    "    tup_element = tuple_elements\n",
    "    print(f\"tupl_elem, {tup_element}\")\n",
    "    while any(isinstance(el, tuple) for el in tup_element):\n",
    "        tup_element = sum(tup_element, ())\n",
    "    tup_element = tuple(set(tup_element))\n",
    "    return tup_element"
   ],
   "metadata": {
    "collapsed": false,
    "pycharm": {
     "name": "#%%\n"
    }
   }
  },
  {
   "cell_type": "code",
   "execution_count": 32,
   "outputs": [],
   "source": [
    "def elementy_laczone(df_input: pd.DataFrame) -> list:\n",
    "    return list(df_input[\"Elemtny(łączone)\"])"
   ],
   "metadata": {
    "collapsed": false,
    "pycharm": {
     "name": "#%%\n"
    }
   }
  },
  {
   "cell_type": "code",
   "execution_count": 136,
   "outputs": [],
   "source": [
    "def remove_element(lista_a, element):\n",
    "    if element in lista_a:\n",
    "        print(f\"Delete {element}, actual list: {lista_a}\")\n",
    "        lista_a.remove(element)"
   ],
   "metadata": {
    "collapsed": false,
    "pycharm": {
     "name": "#%%\n"
    }
   }
  },
  {
   "cell_type": "code",
   "execution_count": 150,
   "outputs": [],
   "source": [
    "def compare_neighbours(df_input: pd.DataFrame, main: int, next_: int, el_lacz: list=[])\\\n",
    "        -> Tuple[pd.DataFrame, list]:\n",
    "    print(f\"El_laczone = {el_lacz}\")\n",
    "    df_new = pd.DataFrame(columns=[\"Obiekt grupowany\", \"Elemtny(łączone)\", \"Element\", \"Użyty\"])\n",
    "    df_main = df_input.copy()\n",
    "    # print each comparsion\n",
    "    main_rows = df_main[df_main[\"Obiekt grupowany\"] == main]\n",
    "    next_rows = df_main[df_main[\"Obiekt grupowany\"] == next_]\n",
    "    # print(f\"next->{next_rows}\")\n",
    "    komu_true = set()\n",
    "\n",
    "    for idx_main, row_main in main_rows.iterrows():\n",
    "        for idx_, row_ in next_rows.iterrows():\n",
    "            check1 = row_main['Element']\n",
    "            check2 = row_['Element']\n",
    "            if matched(check1, check2):\n",
    "                # print(f\"Matched! -{check1}- with {check2}\")\n",
    "                # print(f\"nr -{row_main['Elemtny(łączone)']}- with {row_['Elemtny(łączone)']}\")\n",
    "                remove_element(el_lacz, row_main[\"Elemtny(łączone)\"])\n",
    "                remove_element(el_lacz, row_[\"Elemtny(łączone)\"])\n",
    "                if df_new.empty:\n",
    "                    x = 0\n",
    "                    df_new[\"Użyty\"] = df_new[\"Użyty\"].astype(bool)\n",
    "                else:\n",
    "                    x = df_new.index.max() + 1\n",
    "                grupowy_tuple = correct_tuple(tuple([main]) + tuple([next_]))\n",
    "                laczony_tuple = correct_tuple(tuple([row_main[\"Elemtny(łączone)\"]]) + tuple([row_[\"Elemtny(łączone)\"]]))\n",
    "                df_new.loc[x] = [grupowy_tuple,\n",
    "                                 laczony_tuple,\n",
    "                                 correct_pair(check1, check2),\n",
    "                                 False]\n",
    "                ### do glownej tablicy trzeba zaznaczyc, ze dla row i dla row_ <- jest True\n",
    "                komu_true.update([\n",
    "                    row_main[\"Elemtny(łączone)\"],\n",
    "                    row_[\"Elemtny(łączone)\"]\n",
    "                ])\n",
    "    # for item in komu_true:\n",
    "    #     # print(f\"item = {item}\")\n",
    "    #     idx_df = df_groupwane[df_groupwane[\"Elemtny(łączone)\"] == item].index[0]\n",
    "    #     df_main.at[idx_df, \"Użyty\"] = True\n",
    "                    #df_main[df_main[\"Elemtny(łączone)\"] == item][\"Użyty\"] = True\n",
    "        # print(f\"Te elementy na True: {komu_true}\")\n",
    "    return df_new, el_lacz"
   ],
   "metadata": {
    "collapsed": false,
    "pycharm": {
     "name": "#%%\n"
    }
   }
  },
  {
   "cell_type": "code",
   "execution_count": 151,
   "outputs": [
    {
     "data": {
      "text/plain": "[0, 2, 8, 3, 5, 6, 9, 10, 12, 7, 11, 13, 14, 15]"
     },
     "execution_count": 151,
     "metadata": {},
     "output_type": "execute_result"
    }
   ],
   "source": [
    "list(df_groupwane[\"Elemtny(łączone)\"])"
   ],
   "metadata": {
    "collapsed": false,
    "pycharm": {
     "name": "#%%\n"
    }
   }
  },
  {
   "cell_type": "code",
   "execution_count": 161,
   "outputs": [],
   "source": [
    "def create_group(df_input: pd.DataFrame) -> pd.DataFrame:\n",
    "    df_main = df_input.copy()\n",
    "    df_out = pd.DataFrame()\n",
    "    lista_lacz = elementy_laczone(df_input)\n",
    "    unique_values = list(df_input['Obiekt grupowany'].unique())\n",
    "    print(f\"Unique elements len = {len(unique_values)}\")\n",
    "    print(f\"Unique elements = {unique_values}\")\n",
    "    print(f\"Uprise group len = ->{len(unique_values) - 1}<-\")\n",
    "    for idx, el in enumerate(unique_values):\n",
    "        if el == unique_values[-1]: continue\n",
    "        df_tmp, lista_lacz = compare_neighbours(df_main, unique_values[idx], unique_values[idx+1], lista_lacz)\n",
    "        df_out = pd.concat([df_out, df_tmp])\n",
    "    df_out = df_out.drop_duplicates(subset='Element')\n",
    "    return df_out.reset_index(drop=True), lista_lacz"
   ],
   "metadata": {
    "collapsed": false,
    "pycharm": {
     "name": "#%%\n"
    }
   }
  },
  {
   "cell_type": "code",
   "execution_count": null,
   "outputs": [],
   "source": [
    "def all_groups(df_input: pd.DataFrame):\n",
    "    df_out: pd.DataFrame = pd.DataFrame()\n",
    "    list_out: list = []\n"
   ],
   "metadata": {
    "collapsed": false,
    "pycharm": {
     "name": "#%%\n"
    }
   }
  },
  {
   "cell_type": "code",
   "execution_count": 181,
   "outputs": [
    {
     "data": {
      "text/plain": "    Obiekt grupowany  Elemtny(łączone) Element  Użyty\n0                  0                 0    0000  False\n1                  1                 2    0010  False\n2                  1                 8    1000  False\n3                  2                 3    0011  False\n4                  2                 5    0101  False\n5                  2                 6    0110  False\n6                  2                 9    1001  False\n7                  2                10    1010  False\n8                  2                12    1100  False\n9                  3                 7    0111  False\n10                 3                11    1011  False\n11                 3                13    1101  False\n12                 3                14    1110  False\n13                 4                15    1111  False",
      "text/html": "<div>\n<style scoped>\n    .dataframe tbody tr th:only-of-type {\n        vertical-align: middle;\n    }\n\n    .dataframe tbody tr th {\n        vertical-align: top;\n    }\n\n    .dataframe thead th {\n        text-align: right;\n    }\n</style>\n<table border=\"1\" class=\"dataframe\">\n  <thead>\n    <tr style=\"text-align: right;\">\n      <th></th>\n      <th>Obiekt grupowany</th>\n      <th>Elemtny(łączone)</th>\n      <th>Element</th>\n      <th>Użyty</th>\n    </tr>\n  </thead>\n  <tbody>\n    <tr>\n      <th>0</th>\n      <td>0</td>\n      <td>0</td>\n      <td>0000</td>\n      <td>False</td>\n    </tr>\n    <tr>\n      <th>1</th>\n      <td>1</td>\n      <td>2</td>\n      <td>0010</td>\n      <td>False</td>\n    </tr>\n    <tr>\n      <th>2</th>\n      <td>1</td>\n      <td>8</td>\n      <td>1000</td>\n      <td>False</td>\n    </tr>\n    <tr>\n      <th>3</th>\n      <td>2</td>\n      <td>3</td>\n      <td>0011</td>\n      <td>False</td>\n    </tr>\n    <tr>\n      <th>4</th>\n      <td>2</td>\n      <td>5</td>\n      <td>0101</td>\n      <td>False</td>\n    </tr>\n    <tr>\n      <th>5</th>\n      <td>2</td>\n      <td>6</td>\n      <td>0110</td>\n      <td>False</td>\n    </tr>\n    <tr>\n      <th>6</th>\n      <td>2</td>\n      <td>9</td>\n      <td>1001</td>\n      <td>False</td>\n    </tr>\n    <tr>\n      <th>7</th>\n      <td>2</td>\n      <td>10</td>\n      <td>1010</td>\n      <td>False</td>\n    </tr>\n    <tr>\n      <th>8</th>\n      <td>2</td>\n      <td>12</td>\n      <td>1100</td>\n      <td>False</td>\n    </tr>\n    <tr>\n      <th>9</th>\n      <td>3</td>\n      <td>7</td>\n      <td>0111</td>\n      <td>False</td>\n    </tr>\n    <tr>\n      <th>10</th>\n      <td>3</td>\n      <td>11</td>\n      <td>1011</td>\n      <td>False</td>\n    </tr>\n    <tr>\n      <th>11</th>\n      <td>3</td>\n      <td>13</td>\n      <td>1101</td>\n      <td>False</td>\n    </tr>\n    <tr>\n      <th>12</th>\n      <td>3</td>\n      <td>14</td>\n      <td>1110</td>\n      <td>False</td>\n    </tr>\n    <tr>\n      <th>13</th>\n      <td>4</td>\n      <td>15</td>\n      <td>1111</td>\n      <td>False</td>\n    </tr>\n  </tbody>\n</table>\n</div>"
     },
     "execution_count": 181,
     "metadata": {},
     "output_type": "execute_result"
    }
   ],
   "source": [
    "df_groupwane"
   ],
   "metadata": {
    "collapsed": false,
    "pycharm": {
     "name": "#%%\n"
    }
   }
  },
  {
   "cell_type": "code",
   "execution_count": 162,
   "outputs": [
    {
     "data": {
      "text/plain": "    Obiekt grupowany  Elemtny(łączone) Element  Użyty\n0                  0                 0    0000  False\n1                  1                 2    0010  False\n2                  1                 8    1000  False\n3                  2                 3    0011  False\n4                  2                 5    0101  False\n5                  2                 6    0110  False\n6                  2                 9    1001  False\n7                  2                10    1010  False\n8                  2                12    1100  False\n9                  3                 7    0111  False\n10                 3                11    1011  False\n11                 3                13    1101  False\n12                 3                14    1110  False\n13                 4                15    1111  False",
      "text/html": "<div>\n<style scoped>\n    .dataframe tbody tr th:only-of-type {\n        vertical-align: middle;\n    }\n\n    .dataframe tbody tr th {\n        vertical-align: top;\n    }\n\n    .dataframe thead th {\n        text-align: right;\n    }\n</style>\n<table border=\"1\" class=\"dataframe\">\n  <thead>\n    <tr style=\"text-align: right;\">\n      <th></th>\n      <th>Obiekt grupowany</th>\n      <th>Elemtny(łączone)</th>\n      <th>Element</th>\n      <th>Użyty</th>\n    </tr>\n  </thead>\n  <tbody>\n    <tr>\n      <th>0</th>\n      <td>0</td>\n      <td>0</td>\n      <td>0000</td>\n      <td>False</td>\n    </tr>\n    <tr>\n      <th>1</th>\n      <td>1</td>\n      <td>2</td>\n      <td>0010</td>\n      <td>False</td>\n    </tr>\n    <tr>\n      <th>2</th>\n      <td>1</td>\n      <td>8</td>\n      <td>1000</td>\n      <td>False</td>\n    </tr>\n    <tr>\n      <th>3</th>\n      <td>2</td>\n      <td>3</td>\n      <td>0011</td>\n      <td>False</td>\n    </tr>\n    <tr>\n      <th>4</th>\n      <td>2</td>\n      <td>5</td>\n      <td>0101</td>\n      <td>False</td>\n    </tr>\n    <tr>\n      <th>5</th>\n      <td>2</td>\n      <td>6</td>\n      <td>0110</td>\n      <td>False</td>\n    </tr>\n    <tr>\n      <th>6</th>\n      <td>2</td>\n      <td>9</td>\n      <td>1001</td>\n      <td>False</td>\n    </tr>\n    <tr>\n      <th>7</th>\n      <td>2</td>\n      <td>10</td>\n      <td>1010</td>\n      <td>False</td>\n    </tr>\n    <tr>\n      <th>8</th>\n      <td>2</td>\n      <td>12</td>\n      <td>1100</td>\n      <td>False</td>\n    </tr>\n    <tr>\n      <th>9</th>\n      <td>3</td>\n      <td>7</td>\n      <td>0111</td>\n      <td>False</td>\n    </tr>\n    <tr>\n      <th>10</th>\n      <td>3</td>\n      <td>11</td>\n      <td>1011</td>\n      <td>False</td>\n    </tr>\n    <tr>\n      <th>11</th>\n      <td>3</td>\n      <td>13</td>\n      <td>1101</td>\n      <td>False</td>\n    </tr>\n    <tr>\n      <th>12</th>\n      <td>3</td>\n      <td>14</td>\n      <td>1110</td>\n      <td>False</td>\n    </tr>\n    <tr>\n      <th>13</th>\n      <td>4</td>\n      <td>15</td>\n      <td>1111</td>\n      <td>False</td>\n    </tr>\n  </tbody>\n</table>\n</div>"
     },
     "execution_count": 162,
     "metadata": {},
     "output_type": "execute_result"
    }
   ],
   "source": [
    "df_groupwane"
   ],
   "metadata": {
    "collapsed": false,
    "pycharm": {
     "name": "#%%\n"
    }
   }
  },
  {
   "cell_type": "code",
   "execution_count": 163,
   "outputs": [
    {
     "name": "stdout",
     "output_type": "stream",
     "text": [
      "Unique elements len = 5\n",
      "Unique elements = [0, 1, 2, 3, 4]\n",
      "Uprise group len = ->4<-\n",
      "El_laczone = [0, 2, 8, 3, 5, 6, 9, 10, 12, 7, 11, 13, 14, 15]\n",
      "Delete 0, actual list: [0, 2, 8, 3, 5, 6, 9, 10, 12, 7, 11, 13, 14, 15]\n",
      "Delete 2, actual list: [2, 8, 3, 5, 6, 9, 10, 12, 7, 11, 13, 14, 15]\n",
      "tupl_elem, (0, 1)\n",
      "tupl_elem, (0, 2)\n",
      "Delete 8, actual list: [8, 3, 5, 6, 9, 10, 12, 7, 11, 13, 14, 15]\n",
      "tupl_elem, (0, 1)\n",
      "tupl_elem, (0, 8)\n",
      "El_laczone = [3, 5, 6, 9, 10, 12, 7, 11, 13, 14, 15]\n",
      "Delete 3, actual list: [3, 5, 6, 9, 10, 12, 7, 11, 13, 14, 15]\n",
      "tupl_elem, (1, 2)\n",
      "tupl_elem, (2, 3)\n",
      "Delete 6, actual list: [5, 6, 9, 10, 12, 7, 11, 13, 14, 15]\n",
      "tupl_elem, (1, 2)\n",
      "tupl_elem, (2, 6)\n",
      "Delete 10, actual list: [5, 9, 10, 12, 7, 11, 13, 14, 15]\n",
      "tupl_elem, (1, 2)\n",
      "tupl_elem, (2, 10)\n",
      "Delete 9, actual list: [5, 9, 12, 7, 11, 13, 14, 15]\n",
      "tupl_elem, (1, 2)\n",
      "tupl_elem, (8, 9)\n",
      "tupl_elem, (1, 2)\n",
      "tupl_elem, (8, 10)\n",
      "Delete 12, actual list: [5, 12, 7, 11, 13, 14, 15]\n",
      "tupl_elem, (1, 2)\n",
      "tupl_elem, (8, 12)\n",
      "El_laczone = [5, 7, 11, 13, 14, 15]\n",
      "Delete 7, actual list: [5, 7, 11, 13, 14, 15]\n",
      "tupl_elem, (2, 3)\n",
      "tupl_elem, (3, 7)\n",
      "Delete 11, actual list: [5, 11, 13, 14, 15]\n",
      "tupl_elem, (2, 3)\n",
      "tupl_elem, (3, 11)\n",
      "Delete 5, actual list: [5, 13, 14, 15]\n",
      "tupl_elem, (2, 3)\n",
      "tupl_elem, (5, 7)\n",
      "Delete 13, actual list: [13, 14, 15]\n",
      "tupl_elem, (2, 3)\n",
      "tupl_elem, (5, 13)\n",
      "tupl_elem, (2, 3)\n",
      "tupl_elem, (6, 7)\n",
      "Delete 14, actual list: [14, 15]\n",
      "tupl_elem, (2, 3)\n",
      "tupl_elem, (6, 14)\n",
      "tupl_elem, (2, 3)\n",
      "tupl_elem, (9, 11)\n",
      "tupl_elem, (2, 3)\n",
      "tupl_elem, (9, 13)\n",
      "tupl_elem, (2, 3)\n",
      "tupl_elem, (10, 11)\n",
      "tupl_elem, (2, 3)\n",
      "tupl_elem, (10, 14)\n",
      "tupl_elem, (2, 3)\n",
      "tupl_elem, (12, 13)\n",
      "tupl_elem, (2, 3)\n",
      "tupl_elem, (12, 14)\n",
      "El_laczone = [15]\n",
      "Delete 15, actual list: [15]\n",
      "tupl_elem, (3, 4)\n",
      "tupl_elem, (7, 15)\n",
      "tupl_elem, (3, 4)\n",
      "tupl_elem, (11, 15)\n",
      "tupl_elem, (3, 4)\n",
      "tupl_elem, (13, 15)\n",
      "tupl_elem, (3, 4)\n",
      "tupl_elem, (14, 15)\n"
     ]
    },
    {
     "data": {
      "text/plain": "   Obiekt grupowany Elemtny(łączone) Element  Użyty\n0            (0, 1)           (0, 2)    00-0  False\n1            (0, 1)           (0, 8)    -000  False\n2            (1, 2)           (2, 3)    001-  False\n3            (1, 2)           (2, 6)    0-10  False\n4            (1, 2)          (2, 10)    -010  False\n5            (1, 2)           (8, 9)    100-  False\n6            (1, 2)          (8, 10)    10-0  False\n7            (1, 2)          (8, 12)    1-00  False\n8            (2, 3)           (3, 7)    0-11  False\n9            (2, 3)          (11, 3)    -011  False\n10           (2, 3)           (5, 7)    01-1  False\n11           (2, 3)          (13, 5)    -101  False\n12           (2, 3)           (6, 7)    011-  False\n13           (2, 3)          (6, 14)    -110  False\n14           (2, 3)          (9, 11)    10-1  False\n15           (2, 3)          (9, 13)    1-01  False\n16           (2, 3)         (10, 11)    101-  False\n17           (2, 3)         (10, 14)    1-10  False\n18           (2, 3)         (12, 13)    110-  False\n19           (2, 3)         (12, 14)    11-0  False\n20           (3, 4)          (15, 7)    -111  False\n21           (3, 4)         (11, 15)    1-11  False\n22           (3, 4)         (13, 15)    11-1  False\n23           (3, 4)         (14, 15)    111-  False",
      "text/html": "<div>\n<style scoped>\n    .dataframe tbody tr th:only-of-type {\n        vertical-align: middle;\n    }\n\n    .dataframe tbody tr th {\n        vertical-align: top;\n    }\n\n    .dataframe thead th {\n        text-align: right;\n    }\n</style>\n<table border=\"1\" class=\"dataframe\">\n  <thead>\n    <tr style=\"text-align: right;\">\n      <th></th>\n      <th>Obiekt grupowany</th>\n      <th>Elemtny(łączone)</th>\n      <th>Element</th>\n      <th>Użyty</th>\n    </tr>\n  </thead>\n  <tbody>\n    <tr>\n      <th>0</th>\n      <td>(0, 1)</td>\n      <td>(0, 2)</td>\n      <td>00-0</td>\n      <td>False</td>\n    </tr>\n    <tr>\n      <th>1</th>\n      <td>(0, 1)</td>\n      <td>(0, 8)</td>\n      <td>-000</td>\n      <td>False</td>\n    </tr>\n    <tr>\n      <th>2</th>\n      <td>(1, 2)</td>\n      <td>(2, 3)</td>\n      <td>001-</td>\n      <td>False</td>\n    </tr>\n    <tr>\n      <th>3</th>\n      <td>(1, 2)</td>\n      <td>(2, 6)</td>\n      <td>0-10</td>\n      <td>False</td>\n    </tr>\n    <tr>\n      <th>4</th>\n      <td>(1, 2)</td>\n      <td>(2, 10)</td>\n      <td>-010</td>\n      <td>False</td>\n    </tr>\n    <tr>\n      <th>5</th>\n      <td>(1, 2)</td>\n      <td>(8, 9)</td>\n      <td>100-</td>\n      <td>False</td>\n    </tr>\n    <tr>\n      <th>6</th>\n      <td>(1, 2)</td>\n      <td>(8, 10)</td>\n      <td>10-0</td>\n      <td>False</td>\n    </tr>\n    <tr>\n      <th>7</th>\n      <td>(1, 2)</td>\n      <td>(8, 12)</td>\n      <td>1-00</td>\n      <td>False</td>\n    </tr>\n    <tr>\n      <th>8</th>\n      <td>(2, 3)</td>\n      <td>(3, 7)</td>\n      <td>0-11</td>\n      <td>False</td>\n    </tr>\n    <tr>\n      <th>9</th>\n      <td>(2, 3)</td>\n      <td>(11, 3)</td>\n      <td>-011</td>\n      <td>False</td>\n    </tr>\n    <tr>\n      <th>10</th>\n      <td>(2, 3)</td>\n      <td>(5, 7)</td>\n      <td>01-1</td>\n      <td>False</td>\n    </tr>\n    <tr>\n      <th>11</th>\n      <td>(2, 3)</td>\n      <td>(13, 5)</td>\n      <td>-101</td>\n      <td>False</td>\n    </tr>\n    <tr>\n      <th>12</th>\n      <td>(2, 3)</td>\n      <td>(6, 7)</td>\n      <td>011-</td>\n      <td>False</td>\n    </tr>\n    <tr>\n      <th>13</th>\n      <td>(2, 3)</td>\n      <td>(6, 14)</td>\n      <td>-110</td>\n      <td>False</td>\n    </tr>\n    <tr>\n      <th>14</th>\n      <td>(2, 3)</td>\n      <td>(9, 11)</td>\n      <td>10-1</td>\n      <td>False</td>\n    </tr>\n    <tr>\n      <th>15</th>\n      <td>(2, 3)</td>\n      <td>(9, 13)</td>\n      <td>1-01</td>\n      <td>False</td>\n    </tr>\n    <tr>\n      <th>16</th>\n      <td>(2, 3)</td>\n      <td>(10, 11)</td>\n      <td>101-</td>\n      <td>False</td>\n    </tr>\n    <tr>\n      <th>17</th>\n      <td>(2, 3)</td>\n      <td>(10, 14)</td>\n      <td>1-10</td>\n      <td>False</td>\n    </tr>\n    <tr>\n      <th>18</th>\n      <td>(2, 3)</td>\n      <td>(12, 13)</td>\n      <td>110-</td>\n      <td>False</td>\n    </tr>\n    <tr>\n      <th>19</th>\n      <td>(2, 3)</td>\n      <td>(12, 14)</td>\n      <td>11-0</td>\n      <td>False</td>\n    </tr>\n    <tr>\n      <th>20</th>\n      <td>(3, 4)</td>\n      <td>(15, 7)</td>\n      <td>-111</td>\n      <td>False</td>\n    </tr>\n    <tr>\n      <th>21</th>\n      <td>(3, 4)</td>\n      <td>(11, 15)</td>\n      <td>1-11</td>\n      <td>False</td>\n    </tr>\n    <tr>\n      <th>22</th>\n      <td>(3, 4)</td>\n      <td>(13, 15)</td>\n      <td>11-1</td>\n      <td>False</td>\n    </tr>\n    <tr>\n      <th>23</th>\n      <td>(3, 4)</td>\n      <td>(14, 15)</td>\n      <td>111-</td>\n      <td>False</td>\n    </tr>\n  </tbody>\n</table>\n</div>"
     },
     "execution_count": 163,
     "metadata": {},
     "output_type": "execute_result"
    }
   ],
   "source": [
    "df_out1, lista_wyjscie1 = create_group(df_groupwane)\n",
    "df_out1"
   ],
   "metadata": {
    "collapsed": false,
    "pycharm": {
     "name": "#%%\n"
    }
   }
  },
  {
   "cell_type": "code",
   "execution_count": 164,
   "outputs": [],
   "source": [
    "assert lista_wyjscie1 == [], \"Wyjście 1 się nie zgadza\""
   ],
   "metadata": {
    "collapsed": false,
    "pycharm": {
     "name": "#%%\n"
    }
   }
  },
  {
   "cell_type": "code",
   "execution_count": 165,
   "outputs": [
    {
     "name": "stdout",
     "output_type": "stream",
     "text": [
      "Unique elements len = 4\n",
      "Unique elements = [(0, 1), (1, 2), (2, 3), (3, 4)]\n",
      "Uprise group len = ->3<-\n",
      "El_laczone = [(0, 2), (0, 8), (2, 3), (2, 6), (2, 10), (8, 9), (8, 10), (8, 12), (3, 7), (11, 3), (5, 7), (13, 5), (6, 7), (6, 14), (9, 11), (9, 13), (10, 11), (10, 14), (12, 13), (12, 14), (15, 7), (11, 15), (13, 15), (14, 15)]\n",
      "Delete (0, 2), actual list: [(0, 2), (0, 8), (2, 3), (2, 6), (2, 10), (8, 9), (8, 10), (8, 12), (3, 7), (11, 3), (5, 7), (13, 5), (6, 7), (6, 14), (9, 11), (9, 13), (10, 11), (10, 14), (12, 13), (12, 14), (15, 7), (11, 15), (13, 15), (14, 15)]\n",
      "Delete (8, 10), actual list: [(0, 8), (2, 3), (2, 6), (2, 10), (8, 9), (8, 10), (8, 12), (3, 7), (11, 3), (5, 7), (13, 5), (6, 7), (6, 14), (9, 11), (9, 13), (10, 11), (10, 14), (12, 13), (12, 14), (15, 7), (11, 15), (13, 15), (14, 15)]\n",
      "tupl_elem, ((0, 1), (1, 2))\n",
      "tupl_elem, ((0, 2), (8, 10))\n",
      "Delete (0, 8), actual list: [(0, 8), (2, 3), (2, 6), (2, 10), (8, 9), (8, 12), (3, 7), (11, 3), (5, 7), (13, 5), (6, 7), (6, 14), (9, 11), (9, 13), (10, 11), (10, 14), (12, 13), (12, 14), (15, 7), (11, 15), (13, 15), (14, 15)]\n",
      "Delete (2, 10), actual list: [(2, 3), (2, 6), (2, 10), (8, 9), (8, 12), (3, 7), (11, 3), (5, 7), (13, 5), (6, 7), (6, 14), (9, 11), (9, 13), (10, 11), (10, 14), (12, 13), (12, 14), (15, 7), (11, 15), (13, 15), (14, 15)]\n",
      "tupl_elem, ((0, 1), (1, 2))\n",
      "tupl_elem, ((0, 8), (2, 10))\n",
      "El_laczone = [(2, 3), (2, 6), (8, 9), (8, 12), (3, 7), (11, 3), (5, 7), (13, 5), (6, 7), (6, 14), (9, 11), (9, 13), (10, 11), (10, 14), (12, 13), (12, 14), (15, 7), (11, 15), (13, 15), (14, 15)]\n",
      "Delete (2, 3), actual list: [(2, 3), (2, 6), (8, 9), (8, 12), (3, 7), (11, 3), (5, 7), (13, 5), (6, 7), (6, 14), (9, 11), (9, 13), (10, 11), (10, 14), (12, 13), (12, 14), (15, 7), (11, 15), (13, 15), (14, 15)]\n",
      "Delete (6, 7), actual list: [(2, 6), (8, 9), (8, 12), (3, 7), (11, 3), (5, 7), (13, 5), (6, 7), (6, 14), (9, 11), (9, 13), (10, 11), (10, 14), (12, 13), (12, 14), (15, 7), (11, 15), (13, 15), (14, 15)]\n",
      "tupl_elem, ((1, 2), (2, 3))\n",
      "tupl_elem, ((2, 3), (6, 7))\n",
      "Delete (10, 11), actual list: [(2, 6), (8, 9), (8, 12), (3, 7), (11, 3), (5, 7), (13, 5), (6, 14), (9, 11), (9, 13), (10, 11), (10, 14), (12, 13), (12, 14), (15, 7), (11, 15), (13, 15), (14, 15)]\n",
      "tupl_elem, ((1, 2), (2, 3))\n",
      "tupl_elem, ((2, 3), (10, 11))\n",
      "Delete (2, 6), actual list: [(2, 6), (8, 9), (8, 12), (3, 7), (11, 3), (5, 7), (13, 5), (6, 14), (9, 11), (9, 13), (10, 14), (12, 13), (12, 14), (15, 7), (11, 15), (13, 15), (14, 15)]\n",
      "Delete (3, 7), actual list: [(8, 9), (8, 12), (3, 7), (11, 3), (5, 7), (13, 5), (6, 14), (9, 11), (9, 13), (10, 14), (12, 13), (12, 14), (15, 7), (11, 15), (13, 15), (14, 15)]\n",
      "tupl_elem, ((1, 2), (2, 3))\n",
      "tupl_elem, ((2, 6), (3, 7))\n",
      "Delete (10, 14), actual list: [(8, 9), (8, 12), (11, 3), (5, 7), (13, 5), (6, 14), (9, 11), (9, 13), (10, 14), (12, 13), (12, 14), (15, 7), (11, 15), (13, 15), (14, 15)]\n",
      "tupl_elem, ((1, 2), (2, 3))\n",
      "tupl_elem, ((2, 6), (10, 14))\n",
      "Delete (11, 3), actual list: [(8, 9), (8, 12), (11, 3), (5, 7), (13, 5), (6, 14), (9, 11), (9, 13), (12, 13), (12, 14), (15, 7), (11, 15), (13, 15), (14, 15)]\n",
      "tupl_elem, ((1, 2), (2, 3))\n",
      "tupl_elem, ((2, 10), (11, 3))\n",
      "Delete (6, 14), actual list: [(8, 9), (8, 12), (5, 7), (13, 5), (6, 14), (9, 11), (9, 13), (12, 13), (12, 14), (15, 7), (11, 15), (13, 15), (14, 15)]\n",
      "tupl_elem, ((1, 2), (2, 3))\n",
      "tupl_elem, ((2, 10), (6, 14))\n",
      "Delete (8, 9), actual list: [(8, 9), (8, 12), (5, 7), (13, 5), (9, 11), (9, 13), (12, 13), (12, 14), (15, 7), (11, 15), (13, 15), (14, 15)]\n",
      "tupl_elem, ((1, 2), (2, 3))\n",
      "tupl_elem, ((8, 9), (10, 11))\n",
      "Delete (12, 13), actual list: [(8, 12), (5, 7), (13, 5), (9, 11), (9, 13), (12, 13), (12, 14), (15, 7), (11, 15), (13, 15), (14, 15)]\n",
      "tupl_elem, ((1, 2), (2, 3))\n",
      "tupl_elem, ((8, 9), (12, 13))\n",
      "Delete (9, 11), actual list: [(8, 12), (5, 7), (13, 5), (9, 11), (9, 13), (12, 14), (15, 7), (11, 15), (13, 15), (14, 15)]\n",
      "tupl_elem, ((1, 2), (2, 3))\n",
      "tupl_elem, ((8, 10), (9, 11))\n",
      "Delete (12, 14), actual list: [(8, 12), (5, 7), (13, 5), (9, 13), (12, 14), (15, 7), (11, 15), (13, 15), (14, 15)]\n",
      "tupl_elem, ((1, 2), (2, 3))\n",
      "tupl_elem, ((8, 10), (12, 14))\n",
      "Delete (8, 12), actual list: [(8, 12), (5, 7), (13, 5), (9, 13), (15, 7), (11, 15), (13, 15), (14, 15)]\n",
      "Delete (9, 13), actual list: [(5, 7), (13, 5), (9, 13), (15, 7), (11, 15), (13, 15), (14, 15)]\n",
      "tupl_elem, ((1, 2), (2, 3))\n",
      "tupl_elem, ((8, 12), (9, 13))\n",
      "tupl_elem, ((1, 2), (2, 3))\n",
      "tupl_elem, ((8, 12), (10, 14))\n",
      "El_laczone = [(5, 7), (13, 5), (15, 7), (11, 15), (13, 15), (14, 15)]\n",
      "Delete (11, 15), actual list: [(5, 7), (13, 5), (15, 7), (11, 15), (13, 15), (14, 15)]\n",
      "tupl_elem, ((2, 3), (3, 4))\n",
      "tupl_elem, ((3, 7), (11, 15))\n",
      "Delete (15, 7), actual list: [(5, 7), (13, 5), (15, 7), (13, 15), (14, 15)]\n",
      "tupl_elem, ((2, 3), (3, 4))\n",
      "tupl_elem, ((11, 3), (15, 7))\n",
      "Delete (5, 7), actual list: [(5, 7), (13, 5), (13, 15), (14, 15)]\n",
      "Delete (13, 15), actual list: [(13, 5), (13, 15), (14, 15)]\n",
      "tupl_elem, ((2, 3), (3, 4))\n",
      "tupl_elem, ((5, 7), (13, 15))\n",
      "Delete (13, 5), actual list: [(13, 5), (14, 15)]\n",
      "tupl_elem, ((2, 3), (3, 4))\n",
      "tupl_elem, ((13, 5), (15, 7))\n",
      "Delete (14, 15), actual list: [(14, 15)]\n",
      "tupl_elem, ((2, 3), (3, 4))\n",
      "tupl_elem, ((6, 7), (14, 15))\n",
      "tupl_elem, ((2, 3), (3, 4))\n",
      "tupl_elem, ((6, 14), (15, 7))\n",
      "tupl_elem, ((2, 3), (3, 4))\n",
      "tupl_elem, ((9, 11), (13, 15))\n",
      "tupl_elem, ((2, 3), (3, 4))\n",
      "tupl_elem, ((9, 13), (11, 15))\n",
      "tupl_elem, ((2, 3), (3, 4))\n",
      "tupl_elem, ((10, 11), (14, 15))\n",
      "tupl_elem, ((2, 3), (3, 4))\n",
      "tupl_elem, ((10, 14), (11, 15))\n",
      "tupl_elem, ((2, 3), (3, 4))\n",
      "tupl_elem, ((12, 13), (14, 15))\n",
      "tupl_elem, ((2, 3), (3, 4))\n",
      "tupl_elem, ((12, 14), (13, 15))\n"
     ]
    },
    {
     "data": {
      "text/plain": "   Obiekt grupowany  Elemtny(łączone) Element  Użyty\n0         (0, 1, 2)     (0, 8, 2, 10)    -0-0  False\n1         (1, 2, 3)      (2, 3, 6, 7)    0-1-  False\n2         (1, 2, 3)    (10, 11, 2, 3)    -01-  False\n3         (1, 2, 3)    (2, 10, 6, 14)    --10  False\n4         (1, 2, 3)    (8, 9, 10, 11)    10--  False\n5         (1, 2, 3)    (8, 9, 12, 13)    1-0-  False\n6         (1, 2, 3)   (8, 10, 12, 14)    1--0  False\n7         (2, 3, 4)    (11, 3, 15, 7)    --11  False\n8         (2, 3, 4)    (13, 15, 5, 7)    -1-1  False\n9         (2, 3, 4)    (14, 15, 6, 7)    -11-  False\n10        (2, 3, 4)   (9, 11, 13, 15)    1--1  False\n11        (2, 3, 4)  (10, 11, 14, 15)    1-1-  False\n12        (2, 3, 4)  (12, 13, 14, 15)    11--  False",
      "text/html": "<div>\n<style scoped>\n    .dataframe tbody tr th:only-of-type {\n        vertical-align: middle;\n    }\n\n    .dataframe tbody tr th {\n        vertical-align: top;\n    }\n\n    .dataframe thead th {\n        text-align: right;\n    }\n</style>\n<table border=\"1\" class=\"dataframe\">\n  <thead>\n    <tr style=\"text-align: right;\">\n      <th></th>\n      <th>Obiekt grupowany</th>\n      <th>Elemtny(łączone)</th>\n      <th>Element</th>\n      <th>Użyty</th>\n    </tr>\n  </thead>\n  <tbody>\n    <tr>\n      <th>0</th>\n      <td>(0, 1, 2)</td>\n      <td>(0, 8, 2, 10)</td>\n      <td>-0-0</td>\n      <td>False</td>\n    </tr>\n    <tr>\n      <th>1</th>\n      <td>(1, 2, 3)</td>\n      <td>(2, 3, 6, 7)</td>\n      <td>0-1-</td>\n      <td>False</td>\n    </tr>\n    <tr>\n      <th>2</th>\n      <td>(1, 2, 3)</td>\n      <td>(10, 11, 2, 3)</td>\n      <td>-01-</td>\n      <td>False</td>\n    </tr>\n    <tr>\n      <th>3</th>\n      <td>(1, 2, 3)</td>\n      <td>(2, 10, 6, 14)</td>\n      <td>--10</td>\n      <td>False</td>\n    </tr>\n    <tr>\n      <th>4</th>\n      <td>(1, 2, 3)</td>\n      <td>(8, 9, 10, 11)</td>\n      <td>10--</td>\n      <td>False</td>\n    </tr>\n    <tr>\n      <th>5</th>\n      <td>(1, 2, 3)</td>\n      <td>(8, 9, 12, 13)</td>\n      <td>1-0-</td>\n      <td>False</td>\n    </tr>\n    <tr>\n      <th>6</th>\n      <td>(1, 2, 3)</td>\n      <td>(8, 10, 12, 14)</td>\n      <td>1--0</td>\n      <td>False</td>\n    </tr>\n    <tr>\n      <th>7</th>\n      <td>(2, 3, 4)</td>\n      <td>(11, 3, 15, 7)</td>\n      <td>--11</td>\n      <td>False</td>\n    </tr>\n    <tr>\n      <th>8</th>\n      <td>(2, 3, 4)</td>\n      <td>(13, 15, 5, 7)</td>\n      <td>-1-1</td>\n      <td>False</td>\n    </tr>\n    <tr>\n      <th>9</th>\n      <td>(2, 3, 4)</td>\n      <td>(14, 15, 6, 7)</td>\n      <td>-11-</td>\n      <td>False</td>\n    </tr>\n    <tr>\n      <th>10</th>\n      <td>(2, 3, 4)</td>\n      <td>(9, 11, 13, 15)</td>\n      <td>1--1</td>\n      <td>False</td>\n    </tr>\n    <tr>\n      <th>11</th>\n      <td>(2, 3, 4)</td>\n      <td>(10, 11, 14, 15)</td>\n      <td>1-1-</td>\n      <td>False</td>\n    </tr>\n    <tr>\n      <th>12</th>\n      <td>(2, 3, 4)</td>\n      <td>(12, 13, 14, 15)</td>\n      <td>11--</td>\n      <td>False</td>\n    </tr>\n  </tbody>\n</table>\n</div>"
     },
     "execution_count": 165,
     "metadata": {},
     "output_type": "execute_result"
    }
   ],
   "source": [
    "df_out2, lista_wyjscie2 = create_group(df_out1)\n",
    "df_out2"
   ],
   "metadata": {
    "collapsed": false,
    "pycharm": {
     "name": "#%%\n"
    }
   }
  },
  {
   "cell_type": "code",
   "execution_count": 166,
   "outputs": [],
   "source": [
    "assert lista_wyjscie2 == [], \"Wyjście 2 się nie zgadza\""
   ],
   "metadata": {
    "collapsed": false,
    "pycharm": {
     "name": "#%%\n"
    }
   }
  },
  {
   "cell_type": "code",
   "execution_count": 167,
   "outputs": [
    {
     "data": {
      "text/plain": "[(0, 2),\n (0, 8),\n (2, 3),\n (2, 6),\n (2, 10),\n (8, 9),\n (8, 10),\n (8, 12),\n (3, 7),\n (11, 3),\n (5, 7),\n (13, 5),\n (6, 7),\n (6, 14),\n (9, 11),\n (9, 13),\n (10, 11),\n (10, 14),\n (12, 13),\n (12, 14),\n (15, 7),\n (11, 15),\n (13, 15),\n (14, 15)]"
     },
     "execution_count": 167,
     "metadata": {},
     "output_type": "execute_result"
    }
   ],
   "source": [
    "elementy_laczone(df_out1)"
   ],
   "metadata": {
    "collapsed": false,
    "pycharm": {
     "name": "#%%\n"
    }
   }
  },
  {
   "cell_type": "code",
   "execution_count": 171,
   "outputs": [
    {
     "name": "stdout",
     "output_type": "stream",
     "text": [
      "Unique elements len = 3\n",
      "Unique elements = [(0, 1, 2), (1, 2, 3), (2, 3, 4)]\n",
      "Uprise group len = ->2<-\n",
      "El_laczone = [(0, 8, 2, 10), (2, 3, 6, 7), (10, 11, 2, 3), (2, 10, 6, 14), (8, 9, 10, 11), (8, 9, 12, 13), (8, 10, 12, 14), (11, 3, 15, 7), (13, 15, 5, 7), (14, 15, 6, 7), (9, 11, 13, 15), (10, 11, 14, 15), (12, 13, 14, 15)]\n",
      "El_laczone = [(0, 8, 2, 10), (2, 3, 6, 7), (10, 11, 2, 3), (2, 10, 6, 14), (8, 9, 10, 11), (8, 9, 12, 13), (8, 10, 12, 14), (11, 3, 15, 7), (13, 15, 5, 7), (14, 15, 6, 7), (9, 11, 13, 15), (10, 11, 14, 15), (12, 13, 14, 15)]\n",
      "Delete (2, 3, 6, 7), actual list: [(0, 8, 2, 10), (2, 3, 6, 7), (10, 11, 2, 3), (2, 10, 6, 14), (8, 9, 10, 11), (8, 9, 12, 13), (8, 10, 12, 14), (11, 3, 15, 7), (13, 15, 5, 7), (14, 15, 6, 7), (9, 11, 13, 15), (10, 11, 14, 15), (12, 13, 14, 15)]\n",
      "Delete (10, 11, 14, 15), actual list: [(0, 8, 2, 10), (10, 11, 2, 3), (2, 10, 6, 14), (8, 9, 10, 11), (8, 9, 12, 13), (8, 10, 12, 14), (11, 3, 15, 7), (13, 15, 5, 7), (14, 15, 6, 7), (9, 11, 13, 15), (10, 11, 14, 15), (12, 13, 14, 15)]\n",
      "tupl_elem, ((1, 2, 3), (2, 3, 4))\n",
      "tupl_elem, ((2, 3, 6, 7), (10, 11, 14, 15))\n",
      "Delete (10, 11, 2, 3), actual list: [(0, 8, 2, 10), (10, 11, 2, 3), (2, 10, 6, 14), (8, 9, 10, 11), (8, 9, 12, 13), (8, 10, 12, 14), (11, 3, 15, 7), (13, 15, 5, 7), (14, 15, 6, 7), (9, 11, 13, 15), (12, 13, 14, 15)]\n",
      "Delete (14, 15, 6, 7), actual list: [(0, 8, 2, 10), (2, 10, 6, 14), (8, 9, 10, 11), (8, 9, 12, 13), (8, 10, 12, 14), (11, 3, 15, 7), (13, 15, 5, 7), (14, 15, 6, 7), (9, 11, 13, 15), (12, 13, 14, 15)]\n",
      "tupl_elem, ((1, 2, 3), (2, 3, 4))\n",
      "tupl_elem, ((10, 11, 2, 3), (14, 15, 6, 7))\n",
      "Delete (2, 10, 6, 14), actual list: [(0, 8, 2, 10), (2, 10, 6, 14), (8, 9, 10, 11), (8, 9, 12, 13), (8, 10, 12, 14), (11, 3, 15, 7), (13, 15, 5, 7), (9, 11, 13, 15), (12, 13, 14, 15)]\n",
      "Delete (11, 3, 15, 7), actual list: [(0, 8, 2, 10), (8, 9, 10, 11), (8, 9, 12, 13), (8, 10, 12, 14), (11, 3, 15, 7), (13, 15, 5, 7), (9, 11, 13, 15), (12, 13, 14, 15)]\n",
      "tupl_elem, ((1, 2, 3), (2, 3, 4))\n",
      "tupl_elem, ((2, 10, 6, 14), (11, 3, 15, 7))\n",
      "Delete (8, 9, 10, 11), actual list: [(0, 8, 2, 10), (8, 9, 10, 11), (8, 9, 12, 13), (8, 10, 12, 14), (13, 15, 5, 7), (9, 11, 13, 15), (12, 13, 14, 15)]\n",
      "Delete (12, 13, 14, 15), actual list: [(0, 8, 2, 10), (8, 9, 12, 13), (8, 10, 12, 14), (13, 15, 5, 7), (9, 11, 13, 15), (12, 13, 14, 15)]\n",
      "tupl_elem, ((1, 2, 3), (2, 3, 4))\n",
      "tupl_elem, ((8, 9, 10, 11), (12, 13, 14, 15))\n",
      "Delete (8, 9, 12, 13), actual list: [(0, 8, 2, 10), (8, 9, 12, 13), (8, 10, 12, 14), (13, 15, 5, 7), (9, 11, 13, 15)]\n",
      "tupl_elem, ((1, 2, 3), (2, 3, 4))\n",
      "tupl_elem, ((8, 9, 12, 13), (10, 11, 14, 15))\n",
      "Delete (8, 10, 12, 14), actual list: [(0, 8, 2, 10), (8, 10, 12, 14), (13, 15, 5, 7), (9, 11, 13, 15)]\n",
      "Delete (9, 11, 13, 15), actual list: [(0, 8, 2, 10), (13, 15, 5, 7), (9, 11, 13, 15)]\n",
      "tupl_elem, ((1, 2, 3), (2, 3, 4))\n",
      "tupl_elem, ((8, 10, 12, 14), (9, 11, 13, 15))\n"
     ]
    },
    {
     "data": {
      "text/plain": "  Obiekt grupowany                Elemtny(łączone) Element  Użyty\n0     (1, 2, 3, 4)    (2, 3, 6, 7, 10, 11, 14, 15)    --1-  False\n1     (1, 2, 3, 4)  (8, 9, 10, 11, 12, 13, 14, 15)    1---  False",
      "text/html": "<div>\n<style scoped>\n    .dataframe tbody tr th:only-of-type {\n        vertical-align: middle;\n    }\n\n    .dataframe tbody tr th {\n        vertical-align: top;\n    }\n\n    .dataframe thead th {\n        text-align: right;\n    }\n</style>\n<table border=\"1\" class=\"dataframe\">\n  <thead>\n    <tr style=\"text-align: right;\">\n      <th></th>\n      <th>Obiekt grupowany</th>\n      <th>Elemtny(łączone)</th>\n      <th>Element</th>\n      <th>Użyty</th>\n    </tr>\n  </thead>\n  <tbody>\n    <tr>\n      <th>0</th>\n      <td>(1, 2, 3, 4)</td>\n      <td>(2, 3, 6, 7, 10, 11, 14, 15)</td>\n      <td>--1-</td>\n      <td>False</td>\n    </tr>\n    <tr>\n      <th>1</th>\n      <td>(1, 2, 3, 4)</td>\n      <td>(8, 9, 10, 11, 12, 13, 14, 15)</td>\n      <td>1---</td>\n      <td>False</td>\n    </tr>\n  </tbody>\n</table>\n</div>"
     },
     "execution_count": 171,
     "metadata": {},
     "output_type": "execute_result"
    }
   ],
   "source": [
    "df_out3, lista_wyjscie3 = create_group(df_out2)\n",
    "df_out3"
   ],
   "metadata": {
    "collapsed": false,
    "pycharm": {
     "name": "#%%\n"
    }
   }
  },
  {
   "cell_type": "code",
   "execution_count": 180,
   "outputs": [],
   "source": [
    "assert [tuple(sorted(el)) for el in lista_wyjscie3] == [(0, 2, 8, 10), (5, 7, 13, 15)], \"Wyjsice 3 sie nie zgadza\""
   ],
   "metadata": {
    "collapsed": false,
    "pycharm": {
     "name": "#%%\n"
    }
   }
  },
  {
   "cell_type": "code",
   "execution_count": 179,
   "outputs": [
    {
     "data": {
      "text/plain": "[(0, 2, 8, 10), (5, 7, 13, 15)]"
     },
     "execution_count": 179,
     "metadata": {},
     "output_type": "execute_result"
    }
   ],
   "source": [],
   "metadata": {
    "collapsed": false,
    "pycharm": {
     "name": "#%%\n"
    }
   }
  },
  {
   "cell_type": "code",
   "execution_count": 177,
   "outputs": [
    {
     "data": {
      "text/plain": "[0, 2, 8, 10]"
     },
     "execution_count": 177,
     "metadata": {},
     "output_type": "execute_result"
    }
   ],
   "source": [
    "sorted((0, 8, 2, 10))"
   ],
   "metadata": {
    "collapsed": false,
    "pycharm": {
     "name": "#%%\n"
    }
   }
  },
  {
   "cell_type": "code",
   "execution_count": 174,
   "outputs": [
    {
     "data": {
      "text/plain": "[(0, 8, 2, 10), (13, 15, 5, 7)]"
     },
     "execution_count": 174,
     "metadata": {},
     "output_type": "execute_result"
    }
   ],
   "source": [
    "lista_wyjscie3"
   ],
   "metadata": {
    "collapsed": false,
    "pycharm": {
     "name": "#%%\n"
    }
   }
  },
  {
   "cell_type": "code",
   "execution_count": 71,
   "outputs": [
    {
     "name": "stdout",
     "output_type": "stream",
     "text": [
      "Unique elements len = 1\n",
      "Unique elements = [(1, 2, 3, 4)]\n",
      "Uprise group len = ->0<-\n"
     ]
    },
    {
     "data": {
      "text/plain": "Empty DataFrame\nColumns: []\nIndex: []",
      "text/html": "<div>\n<style scoped>\n    .dataframe tbody tr th:only-of-type {\n        vertical-align: middle;\n    }\n\n    .dataframe tbody tr th {\n        vertical-align: top;\n    }\n\n    .dataframe thead th {\n        text-align: right;\n    }\n</style>\n<table border=\"1\" class=\"dataframe\">\n  <thead>\n    <tr style=\"text-align: right;\">\n      <th></th>\n    </tr>\n  </thead>\n  <tbody>\n  </tbody>\n</table>\n</div>"
     },
     "execution_count": 71,
     "metadata": {},
     "output_type": "execute_result"
    }
   ],
   "source": [
    "df_out4, lista_wyjscie4 = create_group(df_out3)\n",
    "df_out4"
   ],
   "metadata": {
    "collapsed": false,
    "pycharm": {
     "name": "#%%\n"
    }
   }
  },
  {
   "cell_type": "code",
   "execution_count": 80,
   "outputs": [
    {
     "data": {
      "text/plain": "[(0, 2),\n (0, 8),\n (2, 3),\n (2, 6),\n (2, 10),\n (8, 9),\n (8, 10),\n (8, 12),\n (3, 7),\n (11, 3),\n (5, 7),\n (13, 5),\n (6, 7),\n (6, 14),\n (9, 11),\n (9, 13),\n (10, 11),\n (10, 14),\n (12, 13),\n (12, 14),\n (15, 7),\n (11, 15),\n (13, 15),\n (14, 15)]"
     },
     "execution_count": 80,
     "metadata": {},
     "output_type": "execute_result"
    }
   ],
   "source": [
    "elementy_laczone(df_out1)"
   ],
   "metadata": {
    "collapsed": false,
    "pycharm": {
     "name": "#%%\n"
    }
   }
  },
  {
   "cell_type": "code",
   "execution_count": 79,
   "outputs": [
    {
     "data": {
      "text/plain": "[(0, 8, 2, 10),\n (2, 3, 6, 7),\n (10, 11, 2, 3),\n (2, 10, 6, 14),\n (8, 9, 10, 11),\n (8, 9, 12, 13),\n (8, 10, 12, 14),\n (11, 3, 15, 7),\n (13, 15, 5, 7),\n (14, 15, 6, 7),\n (9, 11, 13, 15),\n (10, 11, 14, 15),\n (12, 13, 14, 15)]"
     },
     "execution_count": 79,
     "metadata": {},
     "output_type": "execute_result"
    }
   ],
   "source": [
    "elementy_laczone(df_out2)"
   ],
   "metadata": {
    "collapsed": false,
    "pycharm": {
     "name": "#%%\n"
    }
   }
  },
  {
   "cell_type": "code",
   "execution_count": 78,
   "outputs": [
    {
     "data": {
      "text/plain": "[(0, 8, 2, 10),\n (2, 3, 6, 7),\n (10, 11, 2, 3),\n (2, 10, 6, 14),\n (8, 9, 10, 11),\n (8, 9, 12, 13),\n (8, 10, 12, 14),\n (11, 3, 15, 7),\n (13, 15, 5, 7),\n (14, 15, 6, 7),\n (9, 11, 13, 15),\n (10, 11, 14, 15),\n (12, 13, 14, 15)]"
     },
     "execution_count": 78,
     "metadata": {},
     "output_type": "execute_result"
    }
   ],
   "source": [
    "elementy_laczone(df_out2)"
   ],
   "metadata": {
    "collapsed": false,
    "pycharm": {
     "name": "#%%\n"
    }
   }
  },
  {
   "cell_type": "code",
   "execution_count": 77,
   "outputs": [
    {
     "data": {
      "text/plain": "[(2, 3, 6, 7, 10, 11, 14, 15), (8, 9, 10, 11, 12, 13, 14, 15)]"
     },
     "execution_count": 77,
     "metadata": {},
     "output_type": "execute_result"
    }
   ],
   "source": [
    "elementy_laczone(df_out3)"
   ],
   "metadata": {
    "collapsed": false,
    "pycharm": {
     "name": "#%%\n"
    }
   }
  },
  {
   "cell_type": "code",
   "execution_count": 169,
   "outputs": [],
   "source": [
    "a = tuple([5])"
   ],
   "metadata": {
    "collapsed": false,
    "pycharm": {
     "name": "#%%\n"
    }
   }
  },
  {
   "cell_type": "code",
   "execution_count": 173,
   "outputs": [
    {
     "data": {
      "text/plain": "(1, 2, 3)"
     },
     "execution_count": 173,
     "metadata": {},
     "output_type": "execute_result"
    }
   ],
   "source": [
    "a = tuple([1, 2, 3])\n",
    "a"
   ],
   "metadata": {
    "collapsed": false,
    "pycharm": {
     "name": "#%%\n"
    }
   }
  },
  {
   "cell_type": "code",
   "execution_count": 179,
   "outputs": [
    {
     "data": {
      "text/plain": "(1, 2, 3, 4)"
     },
     "execution_count": 179,
     "metadata": {},
     "output_type": "execute_result"
    }
   ],
   "source": [
    "tuple_element = (((1, 2), (2, 3)), ((2, 3), (3, 4)))\n",
    "while any(isinstance(el, tuple) for el in tuple_element):\n",
    "    tuple_element = sum(tuple_element, ())\n",
    "tuple_element = tuple(set(tuple_element))\n",
    "tuple_element"
   ],
   "metadata": {
    "collapsed": false,
    "pycharm": {
     "name": "#%%\n"
    }
   }
  },
  {
   "cell_type": "code",
   "execution_count": 143,
   "outputs": [
    {
     "data": {
      "text/plain": "(5, 3, 1, 2)"
     },
     "execution_count": 143,
     "metadata": {},
     "output_type": "execute_result"
    }
   ],
   "source": [
    "tuple([5, 3]) + tuple([1, 2])"
   ],
   "metadata": {
    "collapsed": false,
    "pycharm": {
     "name": "#%%\n"
    }
   }
  },
  {
   "cell_type": "code",
   "execution_count": 97,
   "outputs": [
    {
     "data": {
      "text/plain": "  Obiekt grupowany Elemtny(łączone) Element  Użyty\n0           (0, 1)           (0, 2)    00-0  False\n1           (0, 1)           (0, 8)    -000  False",
      "text/html": "<div>\n<style scoped>\n    .dataframe tbody tr th:only-of-type {\n        vertical-align: middle;\n    }\n\n    .dataframe tbody tr th {\n        vertical-align: top;\n    }\n\n    .dataframe thead th {\n        text-align: right;\n    }\n</style>\n<table border=\"1\" class=\"dataframe\">\n  <thead>\n    <tr style=\"text-align: right;\">\n      <th></th>\n      <th>Obiekt grupowany</th>\n      <th>Elemtny(łączone)</th>\n      <th>Element</th>\n      <th>Użyty</th>\n    </tr>\n  </thead>\n  <tbody>\n    <tr>\n      <th>0</th>\n      <td>(0, 1)</td>\n      <td>(0, 2)</td>\n      <td>00-0</td>\n      <td>False</td>\n    </tr>\n    <tr>\n      <th>1</th>\n      <td>(0, 1)</td>\n      <td>(0, 8)</td>\n      <td>-000</td>\n      <td>False</td>\n    </tr>\n  </tbody>\n</table>\n</div>"
     },
     "execution_count": 97,
     "metadata": {},
     "output_type": "execute_result"
    }
   ],
   "source": [
    "df_new = pd.DataFrame()\n",
    "pd.concat([df_new, df1])"
   ],
   "metadata": {
    "collapsed": false,
    "pycharm": {
     "name": "#%%\n"
    }
   }
  },
  {
   "cell_type": "code",
   "execution_count": 68,
   "outputs": [
    {
     "ename": "AssertionError",
     "evalue": "",
     "output_type": "error",
     "traceback": [
      "\u001B[1;31m---------------------------------------------------------------------------\u001B[0m",
      "\u001B[1;31mAssertionError\u001B[0m                            Traceback (most recent call last)",
      "\u001B[1;32m~\\AppData\\Local\\Temp/ipykernel_6100/834982675.py\u001B[0m in \u001B[0;36m<module>\u001B[1;34m\u001B[0m\n\u001B[1;32m----> 1\u001B[1;33m \u001B[1;32massert\u001B[0m \u001B[0mdf2\u001B[0m\u001B[1;33m.\u001B[0m\u001B[0mequals\u001B[0m\u001B[1;33m(\u001B[0m\u001B[0mdf_wynikowa1\u001B[0m\u001B[1;33m)\u001B[0m\u001B[1;33m\u001B[0m\u001B[1;33m\u001B[0m\u001B[0m\n\u001B[0m",
      "\u001B[1;31mAssertionError\u001B[0m: "
     ]
    }
   ],
   "source": [],
   "metadata": {
    "collapsed": false,
    "pycharm": {
     "name": "#%%\n"
    }
   }
  },
  {
   "cell_type": "code",
   "execution_count": null,
   "outputs": [],
   "source": [],
   "metadata": {
    "collapsed": false,
    "pycharm": {
     "name": "#%%\n"
    }
   }
  }
 ],
 "metadata": {
  "kernelspec": {
   "display_name": "Python 3",
   "language": "python",
   "name": "python3"
  },
  "language_info": {
   "codemirror_mode": {
    "name": "ipython",
    "version": 2
   },
   "file_extension": ".py",
   "mimetype": "text/x-python",
   "name": "python",
   "nbconvert_exporter": "python",
   "pygments_lexer": "ipython2",
   "version": "2.7.6"
  }
 },
 "nbformat": 4,
 "nbformat_minor": 0
}