{
 "cells": [
  {
   "cell_type": "code",
   "execution_count": 1,
   "outputs": [],
   "source": [
    "import pandas as pd\n",
    "\n",
    "from Reprezentacja_sumacyjna import CreateTable"
   ],
   "metadata": {
    "collapsed": false,
    "pycharm": {
     "name": "#%%\n"
    }
   }
  },
  {
   "cell_type": "code",
   "execution_count": 2,
   "outputs": [],
   "source": [
    "from typing import List, Tuple"
   ],
   "metadata": {
    "collapsed": false,
    "pycharm": {
     "name": "#%%\n"
    }
   }
  },
  {
   "cell_type": "code",
   "execution_count": 3,
   "outputs": [
    {
     "name": "stdout",
     "output_type": "stream",
     "text": [
      "0, 2, 3, 5, 6, 7, 8, 9, 10, 11, 12, 13, 14, 15 \n"
     ]
    }
   ],
   "source": [
    "df = CreateTable(\"0, 2, 3, 5, 6, 7, 8, 9, 10, 11, 12, 13, 14, 15\")"
   ],
   "metadata": {
    "collapsed": false,
    "pycharm": {
     "name": "#%%\n"
    }
   }
  },
  {
   "cell_type": "code",
   "execution_count": 5,
   "outputs": [
    {
     "data": {
      "text/plain": "    Obiekt grupowany  Elemtny(łączone) Element  Użyty\n0                  0                 0    0000  False\n1                  1                 2    0010  False\n2                  1                 8    1000  False\n3                  2                 3    0011  False\n4                  2                 5    0101  False\n5                  2                 6    0110  False\n6                  2                 9    1001  False\n7                  2                10    1010  False\n8                  2                12    1100  False\n9                  3                 7    0111  False\n10                 3                11    1011  False\n11                 3                13    1101  False\n12                 3                14    1110  False\n13                 4                15    1111  False",
      "text/html": "<div>\n<style scoped>\n    .dataframe tbody tr th:only-of-type {\n        vertical-align: middle;\n    }\n\n    .dataframe tbody tr th {\n        vertical-align: top;\n    }\n\n    .dataframe thead th {\n        text-align: right;\n    }\n</style>\n<table border=\"1\" class=\"dataframe\">\n  <thead>\n    <tr style=\"text-align: right;\">\n      <th></th>\n      <th>Obiekt grupowany</th>\n      <th>Elemtny(łączone)</th>\n      <th>Element</th>\n      <th>Użyty</th>\n    </tr>\n  </thead>\n  <tbody>\n    <tr>\n      <th>0</th>\n      <td>0</td>\n      <td>0</td>\n      <td>0000</td>\n      <td>False</td>\n    </tr>\n    <tr>\n      <th>1</th>\n      <td>1</td>\n      <td>2</td>\n      <td>0010</td>\n      <td>False</td>\n    </tr>\n    <tr>\n      <th>2</th>\n      <td>1</td>\n      <td>8</td>\n      <td>1000</td>\n      <td>False</td>\n    </tr>\n    <tr>\n      <th>3</th>\n      <td>2</td>\n      <td>3</td>\n      <td>0011</td>\n      <td>False</td>\n    </tr>\n    <tr>\n      <th>4</th>\n      <td>2</td>\n      <td>5</td>\n      <td>0101</td>\n      <td>False</td>\n    </tr>\n    <tr>\n      <th>5</th>\n      <td>2</td>\n      <td>6</td>\n      <td>0110</td>\n      <td>False</td>\n    </tr>\n    <tr>\n      <th>6</th>\n      <td>2</td>\n      <td>9</td>\n      <td>1001</td>\n      <td>False</td>\n    </tr>\n    <tr>\n      <th>7</th>\n      <td>2</td>\n      <td>10</td>\n      <td>1010</td>\n      <td>False</td>\n    </tr>\n    <tr>\n      <th>8</th>\n      <td>2</td>\n      <td>12</td>\n      <td>1100</td>\n      <td>False</td>\n    </tr>\n    <tr>\n      <th>9</th>\n      <td>3</td>\n      <td>7</td>\n      <td>0111</td>\n      <td>False</td>\n    </tr>\n    <tr>\n      <th>10</th>\n      <td>3</td>\n      <td>11</td>\n      <td>1011</td>\n      <td>False</td>\n    </tr>\n    <tr>\n      <th>11</th>\n      <td>3</td>\n      <td>13</td>\n      <td>1101</td>\n      <td>False</td>\n    </tr>\n    <tr>\n      <th>12</th>\n      <td>3</td>\n      <td>14</td>\n      <td>1110</td>\n      <td>False</td>\n    </tr>\n    <tr>\n      <th>13</th>\n      <td>4</td>\n      <td>15</td>\n      <td>1111</td>\n      <td>False</td>\n    </tr>\n  </tbody>\n</table>\n</div>"
     },
     "execution_count": 5,
     "metadata": {},
     "output_type": "execute_result"
    }
   ],
   "source": [
    "df_groupwane = pd.DataFrame(\n",
    "    columns=[\"Obiekt grupowany\", \"Elemtny(łączone)\", \"Element\", \"Użyty\"],\n",
    "    data=[[0, 0, '0000', False],\n",
    "            [1, 2, '0010', False],\n",
    "            [1, 8, '1000', False],\n",
    "            [2, 3, '0011', False],\n",
    "            [2, 5, '0101', False],\n",
    "            [2, 6, '0110', False],\n",
    "            [2, 9, '1001', False],\n",
    "            [2, 10, '1010', False],\n",
    "            [2, 12, '1100', False],\n",
    "            [3, 7, '0111', False],\n",
    "            [3, 11, '1011', False],\n",
    "            [3, 13, '1101', False],\n",
    "            [3, 14, '1110', False],\n",
    "            [4, 15, '1111', False]])\n",
    "df_groupwane"
   ],
   "metadata": {
    "collapsed": false,
    "pycharm": {
     "name": "#%%\n"
    }
   }
  },
  {
   "cell_type": "code",
   "execution_count": 6,
   "outputs": [
    {
     "data": {
      "text/plain": "    Obiekt grupowany  Elemtny(łączone) Element  Użyty\n0                  0                 0    0000   True\n1                  1                 2    0010   True\n2                  1                 8    1000   True\n3                  2                 5    0101  False\n4                  2                 6    0110  False\n5                  2                 9    1001  False\n6                  2                10    1010  False\n7                  2                12    1100  False\n8                  3                 7    0111  False\n9                  3                11    1011  False\n10                 3                13    1101  False\n11                 3                14    1110  False\n12                 4                15    1111  False",
      "text/html": "<div>\n<style scoped>\n    .dataframe tbody tr th:only-of-type {\n        vertical-align: middle;\n    }\n\n    .dataframe tbody tr th {\n        vertical-align: top;\n    }\n\n    .dataframe thead th {\n        text-align: right;\n    }\n</style>\n<table border=\"1\" class=\"dataframe\">\n  <thead>\n    <tr style=\"text-align: right;\">\n      <th></th>\n      <th>Obiekt grupowany</th>\n      <th>Elemtny(łączone)</th>\n      <th>Element</th>\n      <th>Użyty</th>\n    </tr>\n  </thead>\n  <tbody>\n    <tr>\n      <th>0</th>\n      <td>0</td>\n      <td>0</td>\n      <td>0000</td>\n      <td>True</td>\n    </tr>\n    <tr>\n      <th>1</th>\n      <td>1</td>\n      <td>2</td>\n      <td>0010</td>\n      <td>True</td>\n    </tr>\n    <tr>\n      <th>2</th>\n      <td>1</td>\n      <td>8</td>\n      <td>1000</td>\n      <td>True</td>\n    </tr>\n    <tr>\n      <th>3</th>\n      <td>2</td>\n      <td>5</td>\n      <td>0101</td>\n      <td>False</td>\n    </tr>\n    <tr>\n      <th>4</th>\n      <td>2</td>\n      <td>6</td>\n      <td>0110</td>\n      <td>False</td>\n    </tr>\n    <tr>\n      <th>5</th>\n      <td>2</td>\n      <td>9</td>\n      <td>1001</td>\n      <td>False</td>\n    </tr>\n    <tr>\n      <th>6</th>\n      <td>2</td>\n      <td>10</td>\n      <td>1010</td>\n      <td>False</td>\n    </tr>\n    <tr>\n      <th>7</th>\n      <td>2</td>\n      <td>12</td>\n      <td>1100</td>\n      <td>False</td>\n    </tr>\n    <tr>\n      <th>8</th>\n      <td>3</td>\n      <td>7</td>\n      <td>0111</td>\n      <td>False</td>\n    </tr>\n    <tr>\n      <th>9</th>\n      <td>3</td>\n      <td>11</td>\n      <td>1011</td>\n      <td>False</td>\n    </tr>\n    <tr>\n      <th>10</th>\n      <td>3</td>\n      <td>13</td>\n      <td>1101</td>\n      <td>False</td>\n    </tr>\n    <tr>\n      <th>11</th>\n      <td>3</td>\n      <td>14</td>\n      <td>1110</td>\n      <td>False</td>\n    </tr>\n    <tr>\n      <th>12</th>\n      <td>4</td>\n      <td>15</td>\n      <td>1111</td>\n      <td>False</td>\n    </tr>\n  </tbody>\n</table>\n</div>"
     },
     "execution_count": 6,
     "metadata": {},
     "output_type": "execute_result"
    }
   ],
   "source": [
    "df_glowna_wynik = pd.DataFrame(\n",
    "    columns=[\"Obiekt grupowany\", \"Elemtny(łączone)\", \"Element\", \"Użyty\"],\n",
    "    data=[[0, 0, '0000', True],\n",
    "          [1, 2, '0010', True],\n",
    "          [1, 8, '1000', True],\n",
    "          [2, 5, '0101', False],\n",
    "          [2, 6, '0110', False],\n",
    "          [2, 9, '1001', False],\n",
    "          [2, 10, '1010', False],\n",
    "          [2, 12, '1100', False],\n",
    "          [3, 7, '0111', False],\n",
    "          [3, 11, '1011', False],\n",
    "          [3, 13, '1101', False],\n",
    "          [3, 14, '1110', False],\n",
    "          [4, 15, '1111', False],\n",
    "          ]\n",
    ")\n",
    "df_glowna_wynik"
   ],
   "metadata": {
    "collapsed": false,
    "pycharm": {
     "name": "#%%\n"
    }
   }
  },
  {
   "cell_type": "code",
   "execution_count": 7,
   "outputs": [
    {
     "data": {
      "text/plain": "  Obiekt grupowany Elemtny(łączone) Element  Użyty\n0           (0, 1)           (0, 2)    00-0  False\n1           (0, 1)           (0, 8)    -000  False",
      "text/html": "<div>\n<style scoped>\n    .dataframe tbody tr th:only-of-type {\n        vertical-align: middle;\n    }\n\n    .dataframe tbody tr th {\n        vertical-align: top;\n    }\n\n    .dataframe thead th {\n        text-align: right;\n    }\n</style>\n<table border=\"1\" class=\"dataframe\">\n  <thead>\n    <tr style=\"text-align: right;\">\n      <th></th>\n      <th>Obiekt grupowany</th>\n      <th>Elemtny(łączone)</th>\n      <th>Element</th>\n      <th>Użyty</th>\n    </tr>\n  </thead>\n  <tbody>\n    <tr>\n      <th>0</th>\n      <td>(0, 1)</td>\n      <td>(0, 2)</td>\n      <td>00-0</td>\n      <td>False</td>\n    </tr>\n    <tr>\n      <th>1</th>\n      <td>(0, 1)</td>\n      <td>(0, 8)</td>\n      <td>-000</td>\n      <td>False</td>\n    </tr>\n  </tbody>\n</table>\n</div>"
     },
     "execution_count": 7,
     "metadata": {},
     "output_type": "execute_result"
    }
   ],
   "source": [
    "df_wynikowa1 = pd.DataFrame(\n",
    "    columns=[\"Obiekt grupowany\", \"Elemtny(łączone)\", \"Element\", \"Użyty\"],\n",
    "    data=[[(0, 1), (0, 2), '00-0', False],\n",
    "          [(0, 1), (0, 8), '-000', False]]\n",
    ")\n",
    "df_wynikowa1"
   ],
   "metadata": {
    "collapsed": false,
    "pycharm": {
     "name": "#%%\n"
    }
   }
  },
  {
   "cell_type": "code",
   "execution_count": 8,
   "outputs": [],
   "source": [
    "def matched(num1: str, num2: str) -> bool:\n",
    "    return sum(n1 != n2 for n1, n2 in zip(num1, num2)) == 1"
   ],
   "metadata": {
    "collapsed": false,
    "pycharm": {
     "name": "#%%\n"
    }
   }
  },
  {
   "cell_type": "code",
   "execution_count": 9,
   "outputs": [],
   "source": [
    "assert matched('0000', '000x') == True"
   ],
   "metadata": {
    "collapsed": false,
    "pycharm": {
     "name": "#%%\n"
    }
   }
  },
  {
   "cell_type": "code",
   "execution_count": 10,
   "outputs": [],
   "source": [
    "def correct_pair(num1: str, num2: str) -> str:\n",
    "    return ''.join(n1 if n1 == n2 else '-' for n1, n2 in zip(num1, num2))"
   ],
   "metadata": {
    "collapsed": false,
    "pycharm": {
     "name": "#%%\n"
    }
   }
  },
  {
   "cell_type": "code",
   "execution_count": 11,
   "outputs": [],
   "source": [
    "def correct_tuple(tuple_elements: Tuple) -> Tuple:\n",
    "    tup_element = tuple_elements\n",
    "    # print(f\"tupl_elem, {tup_element}\")\n",
    "    while any(isinstance(el, tuple) for el in tup_element):\n",
    "        tup_element = sum(tup_element, ())\n",
    "    tup_element = tuple(set(tup_element))\n",
    "    return tup_element"
   ],
   "metadata": {
    "collapsed": false,
    "pycharm": {
     "name": "#%%\n"
    }
   }
  },
  {
   "cell_type": "code",
   "execution_count": 12,
   "outputs": [],
   "source": [
    "def elementy_laczone(df_input: pd.DataFrame) -> list:\n",
    "    return list(df_input[\"Elemtny(łączone)\"])"
   ],
   "metadata": {
    "collapsed": false,
    "pycharm": {
     "name": "#%%\n"
    }
   }
  },
  {
   "cell_type": "code",
   "execution_count": 13,
   "outputs": [],
   "source": [
    "def remove_element(lista_a, element):\n",
    "    if element in lista_a:\n",
    "        # print(f\"Delete {element}, actual list: {lista_a}\")\n",
    "        lista_a.remove(element)"
   ],
   "metadata": {
    "collapsed": false,
    "pycharm": {
     "name": "#%%\n"
    }
   }
  },
  {
   "cell_type": "code",
   "execution_count": 14,
   "outputs": [],
   "source": [
    "def compare_neighbours(df_input: pd.DataFrame, main: int, next_: int, el_lacz: list=[])\\\n",
    "        -> Tuple[pd.DataFrame, list]:\n",
    "    # print(f\"El_laczone = {el_lacz}\")\n",
    "    df_new = pd.DataFrame(columns=[\"Obiekt grupowany\", \"Elemtny(łączone)\", \"Element\", \"Użyty\"])\n",
    "    df_main = df_input.copy()\n",
    "    # print each comparsion\n",
    "    main_rows = df_main[df_main[\"Obiekt grupowany\"] == main]\n",
    "    next_rows = df_main[df_main[\"Obiekt grupowany\"] == next_]\n",
    "    # print(f\"next->{next_rows}\")\n",
    "    komu_true = set()\n",
    "\n",
    "    for idx_main, row_main in main_rows.iterrows():\n",
    "        for idx_, row_ in next_rows.iterrows():\n",
    "            check1 = row_main['Element']\n",
    "            check2 = row_['Element']\n",
    "            if matched(check1, check2):\n",
    "                # print(f\"Matched! -{check1}- with {check2}\")\n",
    "                # print(f\"nr -{row_main['Elemtny(łączone)']}- with {row_['Elemtny(łączone)']}\")\n",
    "                remove_element(el_lacz, row_main[\"Elemtny(łączone)\"])\n",
    "                remove_element(el_lacz, row_[\"Elemtny(łączone)\"])\n",
    "                if df_new.empty:\n",
    "                    x = 0\n",
    "                    df_new[\"Użyty\"] = df_new[\"Użyty\"].astype(bool)\n",
    "                else:\n",
    "                    x = df_new.index.max() + 1\n",
    "                grupowy_tuple = correct_tuple(tuple([main]) + tuple([next_]))\n",
    "                laczony_tuple = correct_tuple(tuple([row_main[\"Elemtny(łączone)\"]]) + tuple([row_[\"Elemtny(łączone)\"]]))\n",
    "                df_new.loc[x] = [grupowy_tuple,\n",
    "                                 laczony_tuple,\n",
    "                                 correct_pair(check1, check2),\n",
    "                                 False]\n",
    "                ### do glownej tablicy trzeba zaznaczyc, ze dla row i dla row_ <- jest True\n",
    "                komu_true.update([\n",
    "                    row_main[\"Elemtny(łączone)\"],\n",
    "                    row_[\"Elemtny(łączone)\"]\n",
    "                ])\n",
    "    # for item in komu_true:\n",
    "    #     # print(f\"item = {item}\")\n",
    "    #     idx_df = df_groupwane[df_groupwane[\"Elemtny(łączone)\"] == item].index[0]\n",
    "    #     df_main.at[idx_df, \"Użyty\"] = True\n",
    "                    #df_main[df_main[\"Elemtny(łączone)\"] == item][\"Użyty\"] = True\n",
    "        # print(f\"Te elementy na True: {komu_true}\")\n",
    "    return df_new, el_lacz"
   ],
   "metadata": {
    "collapsed": false,
    "pycharm": {
     "name": "#%%\n"
    }
   }
  },
  {
   "cell_type": "code",
   "execution_count": 15,
   "outputs": [
    {
     "data": {
      "text/plain": "[0, 2, 8, 3, 5, 6, 9, 10, 12, 7, 11, 13, 14, 15]"
     },
     "execution_count": 15,
     "metadata": {},
     "output_type": "execute_result"
    }
   ],
   "source": [
    "list(df_groupwane[\"Elemtny(łączone)\"])"
   ],
   "metadata": {
    "collapsed": false,
    "pycharm": {
     "name": "#%%\n"
    }
   }
  },
  {
   "cell_type": "code",
   "execution_count": 41,
   "outputs": [],
   "source": [
    "def create_group(df_input: pd.DataFrame, lista_lacz=[]) -> pd.DataFrame:\n",
    "    df_main = df_input.copy()\n",
    "    df_out = pd.DataFrame()\n",
    "    lista_lacz = lista_lacz + elementy_laczone(df_input)\n",
    "    unique_values = list(df_input['Obiekt grupowany'].unique())\n",
    "    # print(f\"Unique elements len = {len(unique_values)}\")\n",
    "    # print(f\"Unique elements = {unique_values}\")\n",
    "    # print(f\"Uprise group len = ->{len(unique_values) - 1}<-\")\n",
    "    for idx, el in enumerate(unique_values):\n",
    "        if el == unique_values[-1]: continue\n",
    "        df_tmp, lista_lacz = compare_neighbours(df_main, unique_values[idx], unique_values[idx+1], lista_lacz)\n",
    "        df_out = pd.concat([df_out, df_tmp])\n",
    "    df_out = df_out.drop_duplicates(subset='Element')\n",
    "    return df_out.reset_index(drop=True), lista_lacz"
   ],
   "metadata": {
    "collapsed": false,
    "pycharm": {
     "name": "#%%\n"
    }
   }
  },
  {
   "cell_type": "code",
   "execution_count": 42,
   "outputs": [],
   "source": [
    "def all_groups(df_input: pd.DataFrame):\n",
    "    df_all: List[pd.DataFrame] = []\n",
    "    implicants: list = []\n",
    "    df_out, list_out = create_group(df_input)\n",
    "    while not df_out.empty:\n",
    "        df_out, list_out = create_group(df_out, list_out)\n",
    "    print(f\"List out: {list_out}\")\n",
    "    return list_out"
   ],
   "metadata": {
    "collapsed": false,
    "pycharm": {
     "name": "#%%\n"
    }
   }
  },
  {
   "cell_type": "code",
   "execution_count": 45,
   "outputs": [
    {
     "name": "stdout",
     "output_type": "stream",
     "text": [
      "List out: [(0, 8, 2, 10), (13, 15, 5, 7), (2, 3, 6, 7, 10, 11, 14, 15), (8, 9, 10, 11, 12, 13, 14, 15)]\n"
     ]
    },
    {
     "data": {
      "text/plain": "[(0, 8, 2, 10),\n (13, 15, 5, 7),\n (2, 3, 6, 7, 10, 11, 14, 15),\n (8, 9, 10, 11, 12, 13, 14, 15)]"
     },
     "execution_count": 45,
     "metadata": {},
     "output_type": "execute_result"
    }
   ],
   "source": [
    "all_groups(df_groupwane)"
   ],
   "metadata": {
    "collapsed": false,
    "pycharm": {
     "name": "#%%\n"
    }
   }
  },
  {
   "cell_type": "code",
   "execution_count": 103,
   "outputs": [],
   "source": [
    "def create_tablica_pokryc(postac_sumacyjna: List[int], implikanty_proste: dict):\n",
    "    print(f\"Postac sumacyjna: {postac_sumacyjna}\")\n",
    "    print(\"Słownik\")\n",
    "    for key, item in implikanty_proste.items():\n",
    "        print(f\"key[{key}] = {item}\")"
   ],
   "metadata": {
    "collapsed": false,
    "pycharm": {
     "name": "#%%\n"
    }
   }
  },
  {
   "cell_type": "code",
   "execution_count": 101,
   "outputs": [],
   "source": [
    "from typing import Dict"
   ],
   "metadata": {
    "collapsed": false,
    "pycharm": {
     "name": "#%%\n"
    }
   }
  },
  {
   "cell_type": "code",
   "execution_count": 104,
   "outputs": [
    {
     "name": "stdout",
     "output_type": "stream",
     "text": [
      "Postac sumacyjna: [0, 2, 3, 5, 6, 7, 8, 9, 10, 11, 12, 13, 14, 15]\n",
      "Słownik\n",
      "key[-0-0] = (0, 8, 2, 10)\n",
      "key[-1-1] = (5, 7, 13, 15)\n",
      "key[--1-] = (2, 3, 6, 7, 10, 11, 14, 15)\n",
      "key[1---] = (8, 9, 11, 12, 13, 14, 15)\n"
     ]
    }
   ],
   "source": [
    "postac_sumacyjna: List[int] = [0, 2, 3, 5, 6, 7, 8, 9, 10, 11, 12, 13, 14, 15]\n",
    "implikanty_proste: Dict[str, tuple] = {'-0-0': (0, 8, 2, 10),\n",
    "                                       '-1-1': (5, 7, 13, 15),\n",
    "                                       '--1-': (2, 3, 6, 7, 10, 11, 14, 15),\n",
    "                                       '1---': (8, 9, 11, 12, 13, 14, 15)}\n",
    "create_tablica_pokryc(postac_sumacyjna, implikanty_proste)"
   ],
   "metadata": {
    "collapsed": false,
    "pycharm": {
     "name": "#%%\n"
    }
   }
  },
  {
   "cell_type": "code",
   "execution_count": 95,
   "outputs": [],
   "source": [
    "df_tablica_pokryc = pd.DataFrame(\n",
    "    index = [0, 2, 3, 5, 6, 7, 8, 9, 10, 11, 12, 13, 14, 15],\n",
    "    columns=['-0-0', '-1-1', '--1-', '1---'],\n",
    "    data=[['+', '-', '-', '-'],\n",
    "          ['+', '-', '+', '-'],\n",
    "          ['-', '-', '+', '-'],\n",
    "          ['-', '+', '-', '-'],\n",
    "          ['-', '-', '+', '-'],\n",
    "          ['-', '+', '+', '-'],\n",
    "          ['+', '-', '-', '+'],\n",
    "          ['-', '-', '-', '+'],\n",
    "          ['+', '-', '+', '+'],\n",
    "          ['-', '-', '+', '+'],\n",
    "          ['-', '-', '-', '+'],\n",
    "          ['-', '+', '-', '+'],\n",
    "          ['-', '-', '+', '+'],\n",
    "          ['-', '+', '+', '+'],\n",
    "          ]\n",
    ")"
   ],
   "metadata": {
    "collapsed": false,
    "pycharm": {
     "name": "#%%\n"
    }
   }
  },
  {
   "cell_type": "code",
   "execution_count": 96,
   "outputs": [
    {
     "data": {
      "text/plain": "   -0-0 -1-1 --1- 1---\n0     +    -    -    -\n2     +    -    +    -\n3     -    -    +    -\n5     -    +    -    -\n6     -    -    +    -\n7     -    +    +    -\n8     +    -    -    +\n9     -    -    -    +\n10    +    -    +    +\n11    -    -    +    +\n12    -    -    -    +\n13    -    +    -    +\n14    -    -    +    +\n15    -    +    +    +",
      "text/html": "<div>\n<style scoped>\n    .dataframe tbody tr th:only-of-type {\n        vertical-align: middle;\n    }\n\n    .dataframe tbody tr th {\n        vertical-align: top;\n    }\n\n    .dataframe thead th {\n        text-align: right;\n    }\n</style>\n<table border=\"1\" class=\"dataframe\">\n  <thead>\n    <tr style=\"text-align: right;\">\n      <th></th>\n      <th>-0-0</th>\n      <th>-1-1</th>\n      <th>--1-</th>\n      <th>1---</th>\n    </tr>\n  </thead>\n  <tbody>\n    <tr>\n      <th>0</th>\n      <td>+</td>\n      <td>-</td>\n      <td>-</td>\n      <td>-</td>\n    </tr>\n    <tr>\n      <th>2</th>\n      <td>+</td>\n      <td>-</td>\n      <td>+</td>\n      <td>-</td>\n    </tr>\n    <tr>\n      <th>3</th>\n      <td>-</td>\n      <td>-</td>\n      <td>+</td>\n      <td>-</td>\n    </tr>\n    <tr>\n      <th>5</th>\n      <td>-</td>\n      <td>+</td>\n      <td>-</td>\n      <td>-</td>\n    </tr>\n    <tr>\n      <th>6</th>\n      <td>-</td>\n      <td>-</td>\n      <td>+</td>\n      <td>-</td>\n    </tr>\n    <tr>\n      <th>7</th>\n      <td>-</td>\n      <td>+</td>\n      <td>+</td>\n      <td>-</td>\n    </tr>\n    <tr>\n      <th>8</th>\n      <td>+</td>\n      <td>-</td>\n      <td>-</td>\n      <td>+</td>\n    </tr>\n    <tr>\n      <th>9</th>\n      <td>-</td>\n      <td>-</td>\n      <td>-</td>\n      <td>+</td>\n    </tr>\n    <tr>\n      <th>10</th>\n      <td>+</td>\n      <td>-</td>\n      <td>+</td>\n      <td>+</td>\n    </tr>\n    <tr>\n      <th>11</th>\n      <td>-</td>\n      <td>-</td>\n      <td>+</td>\n      <td>+</td>\n    </tr>\n    <tr>\n      <th>12</th>\n      <td>-</td>\n      <td>-</td>\n      <td>-</td>\n      <td>+</td>\n    </tr>\n    <tr>\n      <th>13</th>\n      <td>-</td>\n      <td>+</td>\n      <td>-</td>\n      <td>+</td>\n    </tr>\n    <tr>\n      <th>14</th>\n      <td>-</td>\n      <td>-</td>\n      <td>+</td>\n      <td>+</td>\n    </tr>\n    <tr>\n      <th>15</th>\n      <td>-</td>\n      <td>+</td>\n      <td>+</td>\n      <td>+</td>\n    </tr>\n  </tbody>\n</table>\n</div>"
     },
     "execution_count": 96,
     "metadata": {},
     "output_type": "execute_result"
    }
   ],
   "source": [
    "df_tablica_pokryc"
   ],
   "metadata": {
    "collapsed": false,
    "pycharm": {
     "name": "#%%\n"
    }
   }
  },
  {
   "cell_type": "code",
   "execution_count": 99,
   "outputs": [
    {
     "ename": "NameError",
     "evalue": "name 'create_tablica_pokryc' is not defined",
     "output_type": "error",
     "traceback": [
      "\u001B[1;31m---------------------------------------------------------------------------\u001B[0m",
      "\u001B[1;31mNameError\u001B[0m                                 Traceback (most recent call last)",
      "\u001B[1;32m~\\AppData\\Local\\Temp/ipykernel_15348/1787996392.py\u001B[0m in \u001B[0;36m<module>\u001B[1;34m\u001B[0m\n\u001B[1;32m----> 1\u001B[1;33m \u001B[1;32massert\u001B[0m \u001B[0mcreate_tablica_pokryc\u001B[0m\u001B[1;33m(\u001B[0m\u001B[0mdf_groupwane\u001B[0m\u001B[1;33m)\u001B[0m\u001B[1;33m.\u001B[0m\u001B[0mequals\u001B[0m\u001B[1;33m(\u001B[0m\u001B[0mdf_tablica_pokryc\u001B[0m\u001B[1;33m)\u001B[0m\u001B[1;33m\u001B[0m\u001B[1;33m\u001B[0m\u001B[0m\n\u001B[0m",
      "\u001B[1;31mNameError\u001B[0m: name 'create_tablica_pokryc' is not defined"
     ]
    }
   ],
   "source": [
    "assert create_tablica_pokryc(df_groupwane).equals(df_tablica_pokryc)"
   ],
   "metadata": {
    "collapsed": false,
    "pycharm": {
     "name": "#%%\n"
    }
   }
  },
  {
   "cell_type": "code",
   "execution_count": null,
   "outputs": [],
   "source": [
    "pd.DataFrame.()"
   ],
   "metadata": {
    "collapsed": false,
    "pycharm": {
     "name": "#%%\n"
    }
   }
  }
 ],
 "metadata": {
  "kernelspec": {
   "display_name": "Python 3",
   "language": "python",
   "name": "python3"
  },
  "language_info": {
   "codemirror_mode": {
    "name": "ipython",
    "version": 2
   },
   "file_extension": ".py",
   "mimetype": "text/x-python",
   "name": "python",
   "nbconvert_exporter": "python",
   "pygments_lexer": "ipython2",
   "version": "2.7.6"
  }
 },
 "nbformat": 4,
 "nbformat_minor": 0
}