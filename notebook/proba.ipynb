{
 "cells": [
  {
   "cell_type": "code",
   "execution_count": 3,
   "outputs": [
    {
     "name": "stdout",
     "output_type": "stream",
     "text": [
      "lista: ['-001', '-100', '00--', '0-0-', '0--0']\n"
     ]
    },
    {
     "ename": "NameError",
     "evalue": "name 'listImp' is not defined",
     "output_type": "error",
     "traceback": [
      "\u001B[1;31m---------------------------------------------------------------------------\u001B[0m",
      "\u001B[1;31mNameError\u001B[0m                                 Traceback (most recent call last)",
      "\u001B[1;32m~\\AppData\\Local\\Temp/ipykernel_20824/2075526700.py\u001B[0m in \u001B[0;36m<module>\u001B[1;34m\u001B[0m\n\u001B[0;32m      3\u001B[0m \u001B[1;32mimport\u001B[0m \u001B[0mnumpy\u001B[0m \u001B[1;32mas\u001B[0m \u001B[0mnp\u001B[0m\u001B[1;33m\u001B[0m\u001B[1;33m\u001B[0m\u001B[0m\n\u001B[0;32m      4\u001B[0m \u001B[1;32mimport\u001B[0m \u001B[0mtabulate\u001B[0m\u001B[1;33m\u001B[0m\u001B[1;33m\u001B[0m\u001B[0m\n\u001B[1;32m----> 5\u001B[1;33m \u001B[1;32mfrom\u001B[0m \u001B[0mInputData\u001B[0m \u001B[1;32mimport\u001B[0m \u001B[0mInputData\u001B[0m\u001B[1;33m\u001B[0m\u001B[1;33m\u001B[0m\u001B[0m\n\u001B[0m\u001B[0;32m      6\u001B[0m \u001B[1;33m\u001B[0m\u001B[0m\n\u001B[0;32m      7\u001B[0m \u001B[0mgetVariable\u001B[0m \u001B[1;33m=\u001B[0m \u001B[1;34m\"x1, x2, x3, x4\"\u001B[0m\u001B[1;33m\u001B[0m\u001B[1;33m\u001B[0m\u001B[0m\n",
      "\u001B[1;32m~\\PycharmProjects\\Projekt_Cyfrowy\\InputData.py\u001B[0m in \u001B[0;36m<module>\u001B[1;34m\u001B[0m\n\u001B[0;32m     75\u001B[0m \u001B[1;33m\u001B[0m\u001B[0m\n\u001B[0;32m     76\u001B[0m \u001B[0mobj\u001B[0m \u001B[1;33m=\u001B[0m \u001B[0mInputData\u001B[0m\u001B[1;33m(\u001B[0m\u001B[0mvariable\u001B[0m\u001B[1;33m,\u001B[0m \u001B[0msop\u001B[0m\u001B[1;33m,\u001B[0m \u001B[0mdontcare\u001B[0m\u001B[1;33m)\u001B[0m\u001B[1;33m\u001B[0m\u001B[1;33m\u001B[0m\u001B[0m\n\u001B[1;32m---> 77\u001B[1;33m \u001B[0mprint\u001B[0m\u001B[1;33m(\u001B[0m\u001B[0mobj\u001B[0m\u001B[1;33m.\u001B[0m\u001B[0mgetImplicants\u001B[0m\u001B[1;33m(\u001B[0m\u001B[1;33m)\u001B[0m\u001B[1;33m)\u001B[0m\u001B[1;33m\u001B[0m\u001B[1;33m\u001B[0m\u001B[0m\n\u001B[0m",
      "\u001B[1;32m~\\PycharmProjects\\Projekt_Cyfrowy\\InputData.py\u001B[0m in \u001B[0;36mgetImplicants\u001B[1;34m(self)\u001B[0m\n\u001B[0;32m     46\u001B[0m         \u001B[0mprint\u001B[0m\u001B[1;33m(\u001B[0m\u001B[1;34mf'lista: {implicants}'\u001B[0m\u001B[1;33m)\u001B[0m\u001B[1;33m\u001B[0m\u001B[1;33m\u001B[0m\u001B[0m\n\u001B[0;32m     47\u001B[0m \u001B[1;33m\u001B[0m\u001B[0m\n\u001B[1;32m---> 48\u001B[1;33m         \u001B[0mlist_impl\u001B[0m \u001B[1;33m=\u001B[0m \u001B[1;33m[\u001B[0m\u001B[1;33m[\u001B[0m\u001B[0mchar\u001B[0m \u001B[1;32mfor\u001B[0m \u001B[0mchar\u001B[0m \u001B[1;32min\u001B[0m \u001B[0mlistImp\u001B[0m\u001B[1;33m[\u001B[0m\u001B[0mi\u001B[0m\u001B[1;33m]\u001B[0m\u001B[1;33m]\u001B[0m \u001B[1;32mfor\u001B[0m \u001B[0mi\u001B[0m \u001B[1;32min\u001B[0m \u001B[0mrange\u001B[0m\u001B[1;33m(\u001B[0m\u001B[1;36m0\u001B[0m\u001B[1;33m,\u001B[0m \u001B[0mlen\u001B[0m\u001B[1;33m(\u001B[0m\u001B[0mlistImp\u001B[0m\u001B[1;33m)\u001B[0m\u001B[1;33m)\u001B[0m\u001B[1;33m]\u001B[0m\u001B[1;33m\u001B[0m\u001B[1;33m\u001B[0m\u001B[0m\n\u001B[0m\u001B[0;32m     49\u001B[0m \u001B[1;33m\u001B[0m\u001B[0m\n\u001B[0;32m     50\u001B[0m         \u001B[1;32mfor\u001B[0m \u001B[0mimplicant\u001B[0m \u001B[1;32min\u001B[0m \u001B[0mlist_impl\u001B[0m\u001B[1;33m:\u001B[0m\u001B[1;33m\u001B[0m\u001B[1;33m\u001B[0m\u001B[0m\n",
      "\u001B[1;31mNameError\u001B[0m: name 'listImp' is not defined"
     ]
    }
   ],
   "source": [
    "from Tablica_pokryc import DostepneMetody\n",
    "import pandas as pd\n",
    "import numpy as np\n",
    "import tabulate\n",
    "from InputData import InputData\n",
    "\n",
    "getVariable = \"x1, x2, x3, x4\"\n",
    "getMinterm = \"1 2 4 6 9 11 13\"\n",
    "getDontCare = \"0 3 7 12\"\n",
    "\n",
    "tab = DostepneMetody(zmienne=getVariable, postac_sumacyjna=getMinterm, dont_care=getDontCare)"
   ],
   "metadata": {
    "collapsed": false,
    "pycharm": {
     "name": "#%%\n"
    }
   }
  },
  {
   "cell_type": "code",
   "execution_count": 4,
   "outputs": [],
   "source": [
    "df2 = pd.DataFrame(np.array([[1, 2, 3], [4, 5, 6], [7, 8, 9]]),\n",
    "                   columns=['a', 'b', 'c'])"
   ],
   "metadata": {
    "collapsed": false,
    "pycharm": {
     "name": "#%%\n"
    }
   }
  },
  {
   "cell_type": "code",
   "execution_count": 5,
   "outputs": [
    {
     "data": {
      "text/plain": "'|    |   a |   b |   c |\\n|---:|----:|----:|----:|\\n|  0 |   1 |   2 |   3 |\\n|  1 |   4 |   5 |   6 |\\n|  2 |   7 |   8 |   9 |'"
     },
     "execution_count": 5,
     "metadata": {},
     "output_type": "execute_result"
    }
   ],
   "source": [
    "df2.to_markdown()"
   ],
   "metadata": {
    "collapsed": false,
    "pycharm": {
     "name": "#%%\n"
    }
   }
  },
  {
   "cell_type": "code",
   "execution_count": 6,
   "outputs": [],
   "source": [
    "value = ['x1', 'b', 'c', 'd', 'e']\n",
    "implicants = ['0-0-0', '101-1', '-00--', '1-11-']"
   ],
   "metadata": {
    "collapsed": false,
    "pycharm": {
     "name": "#%%\n"
    }
   }
  },
  {
   "cell_type": "code",
   "execution_count": 7,
   "outputs": [
    {
     "name": "stdout",
     "output_type": "stream",
     "text": [
      "['x1', 'b', 'c', 'd', 'e']\n",
      "['0-0-0', '101-1', '-00--', '1-11-']\n"
     ]
    }
   ],
   "source": [
    "print(value)\n",
    "print(implicants)"
   ],
   "metadata": {
    "collapsed": false,
    "pycharm": {
     "name": "#%%\n"
    }
   }
  },
  {
   "cell_type": "code",
   "execution_count": 128,
   "outputs": [
    {
     "name": "stdout",
     "output_type": "stream",
     "text": [
      "[['0', '-', '0', '-', '0'], ['1', '0', '1', '-', '1'], ['-', '0', '0', '-', '-'], ['1', '-', '1', '1', '-']]\n",
      "[['-x1', '-c', '-e'], ['x1', '-b', 'c', 'e'], ['-b', '-c'], ['x1', 'c', 'd']]\n"
     ]
    }
   ],
   "source": [
    "newL = [[char for char in implicants[i]] for i in range(0, len(implicants))]\n",
    "print(newL)\n",
    "for implicant in (newL):\n",
    "    for term in range(0, len(implicant)):\n",
    "        if implicant[term] == '1':\n",
    "            implicant[term] = value[term]\n",
    "        elif implicant[term] == '0':\n",
    "            implicant[term] = '-' + value[term]\n",
    "        else:\n",
    "            implicant[term] = ''\n",
    "\n",
    "res = [[ele for ele in sub if ele != ''] for sub in newL]\n",
    "\n",
    "\n",
    "print(res)"
   ],
   "metadata": {
    "collapsed": false,
    "pycharm": {
     "name": "#%%\n"
    }
   }
  },
  {
   "cell_type": "code",
   "execution_count": 181,
   "outputs": [
    {
     "name": "stdout",
     "output_type": "stream",
     "text": [
      "False\n"
     ]
    }
   ],
   "source": [
    "value = ['x1', 'x2', 'x3', 'x4']\n",
    "A = ['0-0-0', '000-0', '-00--', '0-00-']\n",
    "B = [['-x2', 'x3'], ['x1','x4'], ['-x2'], ['-x4'], ['x1', 'x2', 'x3']]\n",
    "\n",
    "strings = [['-1-0']]\n",
    "substring = \"0\"\n",
    "\n",
    "all_term = [item.replace(\"-\", \"\") for sublist in strings for item in sublist]\n",
    "check_if_exist = all(item in value for item in all_term)\n",
    "\n",
    "print(check_if_exist)\n"
   ],
   "metadata": {
    "collapsed": false,
    "pycharm": {
     "name": "#%%\n"
    }
   }
  },
  {
   "cell_type": "markdown",
   "source": [],
   "metadata": {
    "collapsed": false,
    "pycharm": {
     "name": "#%% md\n"
    }
   }
  }
 ],
 "metadata": {
  "kernelspec": {
   "display_name": "Python 3",
   "language": "python",
   "name": "python3"
  },
  "language_info": {
   "codemirror_mode": {
    "name": "ipython",
    "version": 2
   },
   "file_extension": ".py",
   "mimetype": "text/x-python",
   "name": "python",
   "nbconvert_exporter": "python",
   "pygments_lexer": "ipython2",
   "version": "2.7.6"
  }
 },
 "nbformat": 4,
 "nbformat_minor": 0
}