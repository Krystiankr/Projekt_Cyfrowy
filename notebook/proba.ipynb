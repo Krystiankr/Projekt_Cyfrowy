{
 "cells": [
  {
   "cell_type": "code",
   "execution_count": 3,
   "outputs": [],
   "source": [
    "from class_file.Tablica_pokryc import DostepneMetody\n",
    "import pandas as pd\n",
    "import numpy as np\n",
    "import tabulate\n",
    "from class_file.InputData import InputData\n",
    "\n",
    "getVariable = \"x1, x2, x3, x4\"\n",
    "getMinterm = \"1 2 4 6 9 11 13\"\n",
    "getDontCare = \"0 3 7 12\"\n",
    "\n",
    "tab = DostepneMetody(zmienne=getVariable, postac_sumacyjna=getMinterm, dont_care=getDontCare)"
   ],
   "metadata": {
    "collapsed": false,
    "pycharm": {
     "name": "#%%\n"
    }
   }
  },
  {
   "cell_type": "code",
   "execution_count": 7,
   "outputs": [],
   "source": [
    "df2 = pd.DataFrame(np.array([[1, 2, 3], [4, 5, 6], [7, 8, 9]]),\n",
    "                   columns=['a', 'b', 'c'])"
   ],
   "metadata": {
    "collapsed": false,
    "pycharm": {
     "name": "#%%\n"
    }
   }
  },
  {
   "cell_type": "code",
   "execution_count": 1,
   "outputs": [
    {
     "ename": "NameError",
     "evalue": "name 'df2' is not defined",
     "output_type": "error",
     "traceback": [
      "\u001B[1;31m---------------------------------------------------------------------------\u001B[0m",
      "\u001B[1;31mNameError\u001B[0m                                 Traceback (most recent call last)",
      "\u001B[1;32m~\\AppData\\Local\\Temp/ipykernel_15372/3474467567.py\u001B[0m in \u001B[0;36m<module>\u001B[1;34m\u001B[0m\n\u001B[1;32m----> 1\u001B[1;33m \u001B[0mdf2\u001B[0m\u001B[1;33m\u001B[0m\u001B[1;33m\u001B[0m\u001B[0m\n\u001B[0m",
      "\u001B[1;31mNameError\u001B[0m: name 'df2' is not defined"
     ]
    }
   ],
   "source": [
    "df2"
   ],
   "metadata": {
    "collapsed": false,
    "pycharm": {
     "name": "#%%\n"
    }
   }
  },
  {
   "cell_type": "code",
   "execution_count": 18,
   "outputs": [
    {
     "name": "stdout",
     "output_type": "stream",
     "text": [
      "None\n"
     ]
    }
   ],
   "source": [
    "text = df2.to_clipboard()\n",
    "print(text)"
   ],
   "metadata": {
    "collapsed": false,
    "pycharm": {
     "name": "#%%\n"
    }
   }
  },
  {
   "cell_type": "markdown",
   "source": [
    "<table border=\"1\" class=\"dataframe\">\n",
    "  <thead>\n",
    "    <tr style=\"text-align: right;\">\n",
    "      <th></th>\n",
    "      <th>a</th>\n",
    "      <th>b</th>\n",
    "      <th>c</th>"
   ],
   "metadata": {
    "collapsed": false,
    "pycharm": {
     "name": "#%% md\n"
    }
   }
  },
  {
   "cell_type": "code",
   "execution_count": 6,
   "outputs": [],
   "source": [
    "value = ['x1', 'b', 'c', 'd', 'e']\n",
    "implicants = ['0-0-0', '101-1', '-00--', '1-11-']"
   ],
   "metadata": {
    "collapsed": false,
    "pycharm": {
     "name": "#%%\n"
    }
   }
  },
  {
   "cell_type": "code",
   "execution_count": 7,
   "outputs": [
    {
     "name": "stdout",
     "output_type": "stream",
     "text": [
      "['x1', 'b', 'c', 'd', 'e']\n",
      "['0-0-0', '101-1', '-00--', '1-11-']\n"
     ]
    }
   ],
   "source": [
    "print(value)\n",
    "print(implicants)"
   ],
   "metadata": {
    "collapsed": false,
    "pycharm": {
     "name": "#%%\n"
    }
   }
  },
  {
   "cell_type": "code",
   "execution_count": 128,
   "outputs": [
    {
     "name": "stdout",
     "output_type": "stream",
     "text": [
      "[['0', '-', '0', '-', '0'], ['1', '0', '1', '-', '1'], ['-', '0', '0', '-', '-'], ['1', '-', '1', '1', '-']]\n",
      "[['-x1', '-c', '-e'], ['x1', '-b', 'c', 'e'], ['-b', '-c'], ['x1', 'c', 'd']]\n"
     ]
    }
   ],
   "source": [
    "newL = [[char for char in implicants[i]] for i in range(0, len(implicants))]\n",
    "print(newL)\n",
    "for implicant in (newL):\n",
    "    for term in range(0, len(implicant)):\n",
    "        if implicant[term] == '1':\n",
    "            implicant[term] = value[term]\n",
    "        elif implicant[term] == '0':\n",
    "            implicant[term] = '-' + value[term]\n",
    "        else:\n",
    "            implicant[term] = ''\n",
    "\n",
    "res = [[ele for ele in sub if ele != ''] for sub in newL]\n",
    "\n",
    "\n",
    "print(res)"
   ],
   "metadata": {
    "collapsed": false,
    "pycharm": {
     "name": "#%%\n"
    }
   }
  },
  {
   "cell_type": "code",
   "execution_count": 181,
   "outputs": [
    {
     "name": "stdout",
     "output_type": "stream",
     "text": [
      "False\n"
     ]
    }
   ],
   "source": [
    "value = ['x1', 'x2', 'x3', 'x4']\n",
    "A = ['0-0-0', '000-0', '-00--', '0-00-']\n",
    "B = [['-x2', 'x3'], ['x1','x4'], ['-x2'], ['-x4'], ['x1', 'x2', 'x3']]\n",
    "\n",
    "strings = [['-1-0']]\n",
    "substring = \"0\"\n",
    "\n",
    "all_term = [item.replace(\"-\", \"\") for sublist in strings for item in sublist]\n",
    "check_if_exist = all(item in value for item in all_term)\n",
    "\n",
    "print(check_if_exist)\n"
   ],
   "metadata": {
    "collapsed": false,
    "pycharm": {
     "name": "#%%\n"
    }
   }
  },
  {
   "cell_type": "code",
   "execution_count": 11,
   "outputs": [
    {
     "name": "stdout",
     "output_type": "stream",
     "text": [
      "  Liczba jedynek Liczba Binarna  Liczba Dziesiętna\n",
      "0              0           0000                  0\n",
      "1              1           0001                  1\n",
      "2              1           0010                  2\n",
      "3              1           0100                  4\n",
      "4              2           0011                  3\n",
      "5              2           0101                  5\n",
      "6              2           0110                  6\n",
      "7              2           1001                  9\n",
      "8              2           1100                 12\n",
      "   X     Y  Liczba Dziesiętna\n",
      "0  0  0000                  0\n",
      "1  1  0001                  1\n",
      "2  1  0010                  2\n",
      "3  1  0100                  4\n",
      "4  2  0011                  3\n",
      "5  2  0101                  5\n",
      "6  2  0110                  6\n",
      "7  2  1001                  9\n",
      "8  2  1100                 12\n"
     ]
    }
   ],
   "source": [
    "variable = 'a, b, c, d'\n",
    "sop = '1, 2, 3, 4, 5, 9, 12'\n",
    "dontcare = '0, 6'\n",
    "\n",
    "dane = InputData(variable, sop, dontcare)\n",
    "print(dane.getGroupImplicants())\n",
    "df = dane.getGroupImplicants()\n",
    "df2 = df.rename({'Liczba jedynek': 'X', 'Liczba Binarna': 'Y'}, axis=1)\n",
    "print(df2)"
   ],
   "metadata": {
    "collapsed": false,
    "pycharm": {
     "name": "#%%\n"
    }
   }
  },
  {
   "cell_type": "markdown",
   "source": [],
   "metadata": {
    "collapsed": false,
    "pycharm": {
     "name": "#%% md\n"
    }
   }
  }
 ],
 "metadata": {
  "kernelspec": {
   "display_name": "Python 3",
   "language": "python",
   "name": "python3"
  },
  "language_info": {
   "codemirror_mode": {
    "name": "ipython",
    "version": 2
   },
   "file_extension": ".py",
   "mimetype": "text/x-python",
   "name": "python",
   "nbconvert_exporter": "python",
   "pygments_lexer": "ipython2",
   "version": "2.7.6"
  }
 },
 "nbformat": 4,
 "nbformat_minor": 0
}