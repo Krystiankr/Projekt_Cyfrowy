{
 "cells": [
  {
   "cell_type": "code",
   "execution_count": 10,
   "metadata": {
    "collapsed": true
   },
   "outputs": [],
   "source": [
    "from InputData import InputData\n",
    "variable = 'a b c d'\n",
    "sop = '1, 2, 3, 4, 5, 9, 12'\n",
    "dontcare = '0  6'\n",
    "obj = InputData(variable, sop, dontcare)"
   ]
  },
  {
   "cell_type": "code",
   "execution_count": 7,
   "outputs": [
    {
     "name": "stdout",
     "output_type": "stream",
     "text": [
      "    a  b  c  d  Y\n",
      "0   0  0  0  0  X\n",
      "1   0  0  0  1  1\n",
      "2   0  0  1  0  1\n",
      "3   0  0  1  1  1\n",
      "4   0  1  0  0  1\n",
      "5   0  1  0  1  1\n",
      "6   0  1  1  0  X\n",
      "7   0  1  1  1  0\n",
      "8   1  0  0  0  0\n",
      "9   1  0  0  1  1\n",
      "10  1  0  1  0  0\n",
      "11  1  0  1  1  0\n",
      "12  1  1  0  0  1\n",
      "13  1  1  0  1  0\n",
      "14  1  1  1  0  0\n",
      "15  1  1  1  1  0\n"
     ]
    }
   ],
   "source": [
    "print(obj.getTruthTable())"
   ],
   "metadata": {
    "collapsed": false,
    "pycharm": {
     "name": "#%%\n"
    }
   }
  },
  {
   "cell_type": "code",
   "execution_count": 11,
   "outputs": [
    {
     "name": "stdout",
     "output_type": "stream",
     "text": [
      "['a', 'b', 'c', 'd']\n",
      "[['-b', '-c', 'd'], ['b', '-c', '-d'], ['-a', '-b'], ['-a', '-c'], ['-a', '-d']]\n",
      "[['-b', '-c', 'd'], ['b', '-c', '-d'], ['-a', '-b'], ['-a', '-c'], ['-a', '-d']]\n"
     ]
    }
   ],
   "source": [
    "print(obj.getImplicants())"
   ],
   "metadata": {
    "collapsed": false,
    "pycharm": {
     "name": "#%%\n"
    }
   }
  }
 ],
 "metadata": {
  "kernelspec": {
   "display_name": "Python 3",
   "language": "python",
   "name": "python3"
  },
  "language_info": {
   "codemirror_mode": {
    "name": "ipython",
    "version": 2
   },
   "file_extension": ".py",
   "mimetype": "text/x-python",
   "name": "python",
   "nbconvert_exporter": "python",
   "pygments_lexer": "ipython2",
   "version": "2.7.6"
  }
 },
 "nbformat": 4,
 "nbformat_minor": 0
}